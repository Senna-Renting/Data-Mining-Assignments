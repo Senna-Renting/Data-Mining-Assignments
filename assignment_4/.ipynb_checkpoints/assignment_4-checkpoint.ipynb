{
 "cells": [
  {
   "cell_type": "markdown",
   "metadata": {},
   "source": [
    "Before you turn this problem in, make sure everything runs as expected. First, **restart the kernel** (in the menubar, select Kernel$\\rightarrow$Restart) and then **run all cells** (in the menubar, select Cell$\\rightarrow$Run All).\n",
    "\n",
    "Make sure you fill in any place that says `YOUR CODE HERE` or \"YOUR ANSWER HERE\", as well as your name and collaborators below:"
   ]
  },
  {
   "cell_type": "code",
   "execution_count": 1,
   "metadata": {},
   "outputs": [],
   "source": [
    "NAME = \"Senna Renting\"\n",
    "STUDENT_NUMBER = \"s1067489\"\n",
    "COLLABORATOR_NAME = \"\"\n",
    "COLLABORATOR_STUDENT_NUMBER = \"\""
   ]
  },
  {
   "cell_type": "markdown",
   "metadata": {},
   "source": [
    "---"
   ]
  },
  {
   "cell_type": "markdown",
   "metadata": {},
   "source": [
    "## **Important:** When handing in your homework:\n",
    "+ Hand in the notebook (and nothing else) **named as follows**: StudentName1_snumber_StudentName2_snumber.ipynb\n",
    "+ Provide clear and complete answers to the questions below under a separate header (not hidden somewhere in your source code), and make sure to explain your answers / motivate your choices. Add Markdown cells where necessary.\n",
    "+ Source code, output graphs, derivations, etc., should be included in the notebook.\n",
    "+ Hand-in: upload to Brightspace.\n",
    "+ Include name, student number, assignment (especially in filenames)!\n",
    "+ When working in pairs only one of you should upload the assignment, and report the name of your partner in your filename.\n",
    "+ Use the Brightspace discussion board or email the student assistants for questions on how to complete the exercises.\n",
    "+ If you find mistakes/have suggestions/would like to complain about the assigment material itself, please email me [Roel] at `Roel.Bouman@ru.nl`\n",
    "+ Do not remove any cells in the notebook, else this might break the auto-grading system. **An invalid notebook will mean a severe reduction in your grade!**\n",
    "+ Many online collaboration platforms remove metadata from notebooks, which breaks the auto-grading system. Again, **An invalid notebook will mean a severe reduction in your grade!**. Should you wish to use these platforms, copy the answers from the online notebook to one running on your own machine with Anaconda, and then execute all cells.\n",
    "+ Only type your answers in those places where they are asked.\n",
    "+ Remove any \"raise NotImplementedError()\" statements in the cells you answered."
   ]
  },
  {
   "cell_type": "markdown",
   "metadata": {
    "deletable": false,
    "editable": false,
    "nbgrader": {
     "cell_type": "markdown",
     "checksum": "1b9a1fd2d85cc1e6d948651bf79936fb",
     "grade": false,
     "grade_id": "cell-84a8eb72f4be8bfb",
     "locked": true,
     "schema_version": 3,
     "solution": false,
     "task": false
    }
   },
   "source": [
    "# Assignment 4\n",
    "\n",
    "## Objective of this assignment\n",
    "The objective of this exercise is to understand how the unsupervised learning methods $k$-means clustering and hierarchical clustering work. Upon completing the exercise you should also understand how the choice of number of clusters, distance metrics and linkage functions can impact the solutions obtained and further be able to interpret dendrograms and measures of cluster validity\n",
    "\n",
    "\n",
    "## Advised Reading and Exercise Material\n",
    "**The following reading material is recommended:**\n",
    "\n",
    "- Pang-Ning Tan, Michael Steinbach, and Vipin Kumar, *Introduction to Data Mining*, section 8.1-8.3 and 8.5.7\n",
    "\n",
    "\n",
    "## Additional Tools\n",
    "For this exercise you will need to load the provided *clusterPlot.py* and *clusterVal.py* scripts from the toolbox folder. \n",
    "\n",
    "\n",
    "## Introduction\n",
    "In previous exercises we considered supervised learning, i.e., we were given both input data **X** and output values **Y**. We now move on to unsupervised learning where we are only provided input data **X**. The aim is here to find common patterns in the data such as groups of observations that are similar in some sense. In this exercise we will consider two clustering approaches for unsupervised learning: *k*-means clustering and hierarchical clustering.\n",
    "\n",
    "\n",
    "## 4.1 *k*-means clustering\n",
    "In this part of the exercise we will investigate *k*-means clustering. In *k*-means each of the data points are assigned to the cluster in closest proximity according to some measure of distance between cluster centers and data points. When the distance is given by the squared euclidian distance, the centers are also called centroids. Once the data points have been assigned, each cluster center is updated to be placed at the center of the data points that are assigned to the cluster. This continues iteratively, usually until the assignment of data points to centers no longer changes or until a maximal number of iterations is reached.\n",
    "\n",
    "4.1.1a (0.5 point) Load the `synth1` data into python using the `loadmat` function. The `synth1` data is a Matfile loaded into Python as a dictionary; the relevant data is contained under keys `X` and `y`. Cluster the data into `K = 4` clusters using the *k*-means algorithm. Make a scatter plot of the data and the clustering using the provided `clusterPlot()` function from the toolbox. Move the legend if the position is obfuscating data.\n",
    "\n",
    "**Helpful hints:**\n",
    " + In Python, you can use the function `KMeans()` from the package sklearn.cluster to compute *k*-means clustering. please read the documentation of the function, as it creates an object which you can then use for clustering.\n",
    " + Type `clusterPlot(X,clusters,centroids,y)` to plot the data and the clustering. Don't forget to import the function from the `toolbox` folder. If you are unsure about how to use the function, open the .py file in a text editor and take a look at documentation."
   ]
  },
  {
   "cell_type": "code",
   "execution_count": null,
   "metadata": {
    "deletable": false,
    "nbgrader": {
     "cell_type": "code",
     "checksum": "c3583b86f523a171d2c1d9b25586702e",
     "grade": true,
     "grade_id": "cell-f43b3385995553e0",
     "locked": false,
     "points": 50,
     "schema_version": 3,
     "solution": true,
     "task": false
    }
   },
   "outputs": [],
   "source": [
    "##Answer to question 4.1.1a\n",
    "# YOUR CODE HERE\n",
    "raise NotImplementedError()"
   ]
  },
  {
   "cell_type": "markdown",
   "metadata": {
    "deletable": false,
    "editable": false,
    "nbgrader": {
     "cell_type": "markdown",
     "checksum": "4bbd9ade477a70e20cdea456bc7e5c02",
     "grade": false,
     "grade_id": "cell-3e3282fcccc5f8d2",
     "locked": true,
     "schema_version": 3,
     "solution": false,
     "task": false
    }
   },
   "source": [
    "> 4.1.1b (0.5 point) Repeat the previous exercise. Cluster and plot the data sets *synth2*, *synth3*, and *synth4* with $k=4$. "
   ]
  },
  {
   "cell_type": "code",
   "execution_count": null,
   "metadata": {
    "deletable": false,
    "nbgrader": {
     "cell_type": "code",
     "checksum": "ba219b256e43ab98d5dee2b837b4361a",
     "grade": true,
     "grade_id": "cell-c058089d0eb6c230",
     "locked": false,
     "points": 50,
     "schema_version": 3,
     "solution": true,
     "task": false
    }
   },
   "outputs": [],
   "source": [
    "##Answer to question 4.1.1b\n",
    "# YOUR CODE HERE\n",
    "raise NotImplementedError()"
   ]
  },
  {
   "cell_type": "markdown",
   "metadata": {
    "deletable": false,
    "editable": false,
    "nbgrader": {
     "cell_type": "markdown",
     "checksum": "7505e1b62be23ee3b6472466d66f4e5f",
     "grade": false,
     "grade_id": "cell-b579844c5b69a6dd",
     "locked": true,
     "schema_version": 3,
     "solution": false,
     "task": false
    }
   },
   "source": [
    "> 4.1.1c Does the clustering coincide with the true class? Explain for each of the four datasets."
   ]
  },
  {
   "cell_type": "markdown",
   "metadata": {
    "deletable": false,
    "nbgrader": {
     "cell_type": "markdown",
     "checksum": "41e6883b6e393a4f179f81dbd94c73a0",
     "grade": true,
     "grade_id": "cell-b065defb3afb7565",
     "locked": false,
     "points": 50,
     "schema_version": 3,
     "solution": true,
     "task": false
    }
   },
   "source": [
    "YOUR ANSWER HERE"
   ]
  },
  {
   "cell_type": "markdown",
   "metadata": {
    "deletable": false,
    "editable": false,
    "nbgrader": {
     "cell_type": "markdown",
     "checksum": "4cabe0340ab1abbb7becf615947ec11d",
     "grade": false,
     "grade_id": "cell-4845fcbe7fdbd05a",
     "locked": true,
     "schema_version": 3,
     "solution": false,
     "task": false
    }
   },
   "source": [
    "Evaluating how good your clustering is can be hard, because we don't always have labels. Generally, clustering is **unsupervised**.\n",
    "If we do however have labels, we can use the supervised measures of cluster validity described in *Introduction to Data Mining* section 8.5.7, in particular the entropy, purity, rand statistic, and Jaccard coefficient. Carefully review these measures in the book and make sure you understand how they are calculated.\n",
    "\n",
    "> 4.1.2a (1 point) Perform `k`-means clustering for $k = 1, ..., 10$ clusters on each of the datasets. For each value of `k` compute the four cluster validity measures mentioned above. For each dataset: plot the calculated cluster validity measures as a function of `k`. Add a legend to each figure in order to indicate which measures are plotted in which colour.\n",
    "\n",
    "**Helpful hints:**\n",
    " + Use the `clusterVal` function to compute the cluster validity. Don't forget to import it from the `toolbox folder`. If you are unsure about how to use the function, open the .py file in a text editor and take a look at documentation.\n",
    " + Labels for a legend are most easily generated by calling `plt.plot` multiple times before calling `plt.show`. You can set the `label` argument in each `plt.plot` to the name of the label (e.g. what you're plotting). Read the documentation in case you are uncertain!"
   ]
  },
  {
   "cell_type": "code",
   "execution_count": null,
   "metadata": {
    "deletable": false,
    "nbgrader": {
     "cell_type": "code",
     "checksum": "131ae176659261ef3a259096c3011629",
     "grade": true,
     "grade_id": "cell-24858d09ca006a7b",
     "locked": false,
     "points": 100,
     "schema_version": 3,
     "solution": true,
     "task": false
    }
   },
   "outputs": [],
   "source": [
    "# YOUR CODE HERE\n",
    "raise NotImplementedError()"
   ]
  },
  {
   "cell_type": "markdown",
   "metadata": {
    "deletable": false,
    "editable": false,
    "nbgrader": {
     "cell_type": "markdown",
     "checksum": "72e79b6a9dc77e30fc0e7575b860fc7b",
     "grade": false,
     "grade_id": "cell-c2c57f9c8924df2e",
     "locked": true,
     "schema_version": 3,
     "solution": false,
     "task": false
    }
   },
   "source": [
    "> 4.1.2b (1.5 points) How can the cluster validity measures be used to select the best number of clusters?\n",
    "\n",
    "> What happens when more than four clusters are used to model the data? Explain for each dataset."
   ]
  },
  {
   "cell_type": "markdown",
   "metadata": {
    "deletable": false,
    "nbgrader": {
     "cell_type": "markdown",
     "checksum": "4101a0f384688646ad133e05f842d13e",
     "grade": true,
     "grade_id": "cell-e58bba0f1b048943",
     "locked": false,
     "points": 150,
     "schema_version": 3,
     "solution": true,
     "task": false
    }
   },
   "source": [
    "YOUR ANSWER HERE"
   ]
  },
  {
   "cell_type": "markdown",
   "metadata": {
    "deletable": false,
    "editable": false,
    "nbgrader": {
     "cell_type": "markdown",
     "checksum": "40cd1b322c488b6b848d718377bd76e7",
     "grade": false,
     "grade_id": "cell-df729ea4ed441632",
     "locked": true,
     "schema_version": 3,
     "solution": false,
     "task": false
    }
   },
   "source": [
    "## 4.2 Practical applications of k-means\n",
    "\n",
    "*k*-means clustering has many different applications, one of which is data compression. A data set can be compressed by performing *k*-means clustering and then representing each data object by the centroid of the corresponding cluster. Thus, the only data that need to be stored are the *K* cluster centers and the *N* cluster indices.\n",
    "\n",
    "> 4.2.1 (1 point) We will take another look at the MNIST digits data. Load the  data, `data/digits.mat` using the `loadmat` function. Each data object is a $16 \\times 16 = 256$ dimensional vector, corresponding to a grayscale $16 \\times 16$ pixels image. Compute a *k*-means clustering of the data with *K = 10* clusters. Plot a few random images from the data set as well as their corresponding cluster centroids to see how they are represented.\n",
    "\n",
    "**Helpful hint:**\n",
    "+ You can plot an image by the command `imshow(np.reshape(X[k,:],(x,y)))` which reshapes an image vector to a 2-dimensional array and plots it. You can plot the cluster centroids in a similar manner.\n",
    "+ After fitting the KMeans object you made has an attribute containing the centroids (cluster centers). Read the documentation to find out how to access them.\n"
   ]
  },
  {
   "cell_type": "code",
   "execution_count": null,
   "metadata": {
    "deletable": false,
    "nbgrader": {
     "cell_type": "code",
     "checksum": "601733664ced875a47fa04bd74e3e25e",
     "grade": true,
     "grade_id": "cell-df80ef98a9775f17",
     "locked": false,
     "points": 100,
     "schema_version": 3,
     "solution": true,
     "task": false
    }
   },
   "outputs": [],
   "source": [
    "##Answer to question 4.2.1a\n",
    "# YOUR CODE HERE\n",
    "raise NotImplementedError()"
   ]
  },
  {
   "cell_type": "markdown",
   "metadata": {
    "deletable": false,
    "editable": false,
    "nbgrader": {
     "cell_type": "markdown",
     "checksum": "2267727c220d5bfa017e04e6b8a1ae99",
     "grade": false,
     "grade_id": "cell-96685708406d57b8",
     "locked": true,
     "schema_version": 3,
     "solution": false,
     "task": false
    }
   },
   "source": [
    "> 4.2.2 (1 point) How well is the data represented by the cluster centroids? Why does running *k*-means with *K = 10* not give you 10 clusters corresponding to the 10 digits *0..9*? How many clusters do you need to visually represent the 10 different digits? Are there any digits that the clustering algorithm seems to confuse more than others and can you explain why?"
   ]
  },
  {
   "cell_type": "code",
   "execution_count": null,
   "metadata": {
    "deletable": false,
    "nbgrader": {
     "cell_type": "code",
     "checksum": "32a947c97e1af780a8ac876b4e786128",
     "grade": true,
     "grade_id": "cell-92d771b95568f6ba",
     "locked": false,
     "points": 0,
     "schema_version": 3,
     "solution": true,
     "task": false
    }
   },
   "outputs": [],
   "source": [
    "##Answer to question 4.2.2\n",
    "#If you need it, you can write code here to help answer question 4.2.2, do not change your code for 4.2.1!\n",
    "\n",
    "# YOUR CODE HERE\n",
    "raise NotImplementedError()"
   ]
  },
  {
   "cell_type": "markdown",
   "metadata": {
    "deletable": false,
    "nbgrader": {
     "cell_type": "markdown",
     "checksum": "91f9ba421de64729e61adcd27e06d39c",
     "grade": true,
     "grade_id": "cell-96cf4a12099f9512",
     "locked": false,
     "points": 100,
     "schema_version": 3,
     "solution": true,
     "task": false
    }
   },
   "source": [
    "YOUR ANSWER HERE"
   ]
  },
  {
   "cell_type": "markdown",
   "metadata": {
    "deletable": false,
    "editable": false,
    "nbgrader": {
     "cell_type": "markdown",
     "checksum": "5c972175fe1492e942d7d0a792dea1a7",
     "grade": false,
     "grade_id": "cell-33e248d27760e292",
     "locked": true,
     "schema_version": 3,
     "solution": false,
     "task": false
    }
   },
   "source": [
    "## 4.3 Hierarchical Clustering\n",
    "\n",
    "In this part of the exercie we will consider hierarchical clustering based on the functions from the package `scipy.cluster.hierarchy`. The function `linkage` forms a sample to sample distance matrix according to a given distance metric, and creates the linkages between data points forming the hierarchical cluster tree. The function *dendrogram* creates a plot of the generated tree. The function`fcluster` extracts the cluster from a linkage matrix w.r.t. a given criterion. Use *help* for the three functions (or read the online documentation) and inspect what distance metrics and linkage functions are implemented.\n",
    "\n",
    "> 4.3.1a (1 point) Load the data set from `data/synth1`. Cluster the data using hierarchical clustering with single linkage using the Euclidean distance measure. Cluster the data into 4 clusters by cutting off the dendrogram at a threshold. Plot a dendrogram and a scatter plot of the clusters.\n",
    "+ The function `linkage` computes the hierarchical clustering, resulting in a matrix representing the hierarchy of clusterings. TRead the online documentation to learn how to use it.\n",
    "+ You can e.g. type `Z = linkage(X, method='single', metric='euclidean')` to use single linkage with the Euclidean distance measure.\n",
    "+ To compute a clustering, you can use the function `fcluster`. For example, type `cls = fcluster(Z, criterion='maxclust', t=4)` to get a maximum of 4 clusters. Type `help(fcluster)` (or read the online documentation) to learn more about what this function does.\n",
    "+ To plot a dendrogram, you can use the `dendrogram` function. You can make the visualization prettier by choosing an appropriate `color_threshold` to visually obtain 4 cluster. Note that this change in visualization does not impact the actual amount of clusters obtained by using the `fcluster` function.\n",
    "+ Again, you can use the function `clusterPlot` to plot a scatter plot of the clustering."
   ]
  },
  {
   "cell_type": "code",
   "execution_count": null,
   "metadata": {
    "deletable": false,
    "nbgrader": {
     "cell_type": "code",
     "checksum": "4b673617ddb8e0aa8478147f1028986a",
     "grade": true,
     "grade_id": "cell-ce9ed16f1c60ee9b",
     "locked": false,
     "points": 100,
     "schema_version": 3,
     "solution": true,
     "task": false
    }
   },
   "outputs": [],
   "source": [
    "##Answer to question 4.3.1a\n",
    "# YOUR CODE HERE\n",
    "raise NotImplementedError()"
   ]
  },
  {
   "cell_type": "markdown",
   "metadata": {
    "deletable": false,
    "editable": false,
    "nbgrader": {
     "cell_type": "markdown",
     "checksum": "77928c0a769ddd8e0f298a9a2a36fa64",
     "grade": false,
     "grade_id": "cell-185da3f1ff3601c4",
     "locked": true,
     "schema_version": 3,
     "solution": false,
     "task": false
    }
   },
   "source": [
    "> 4.3.1b (1 point) Change the linkage methods (single, complete, average) for the `synth1` dataset and **explain** how this changes the dendrogram (plot all 3 dendrograms) and make a scatterplot of the best performing method. Argue why you think this linkage method performs best. If several linkage methods perform similarly, describe why. Repeat this exercise for the `synth2`, `synth3`, and `synth4` datasets. "
   ]
  },
  {
   "cell_type": "code",
   "execution_count": null,
   "metadata": {
    "deletable": false,
    "nbgrader": {
     "cell_type": "code",
     "checksum": "8b542522e3902ab6f641a545907320bd",
     "grade": true,
     "grade_id": "cell-2d16a90fab3564e5",
     "locked": false,
     "points": 50,
     "schema_version": 3,
     "solution": true,
     "task": false
    }
   },
   "outputs": [],
   "source": [
    "##Answer to question 4.3.1b\n",
    "# YOUR CODE HERE\n",
    "raise NotImplementedError()"
   ]
  },
  {
   "cell_type": "markdown",
   "metadata": {
    "deletable": false,
    "nbgrader": {
     "cell_type": "markdown",
     "checksum": "f3b0fe805ab1bf4619c1a0335dcd5c66",
     "grade": true,
     "grade_id": "cell-c966553b01d1fa10",
     "locked": false,
     "points": 50,
     "schema_version": 3,
     "solution": true,
     "task": false
    }
   },
   "source": [
    "YOUR ANSWER HERE"
   ]
  },
  {
   "cell_type": "markdown",
   "metadata": {
    "deletable": false,
    "editable": false,
    "nbgrader": {
     "cell_type": "markdown",
     "checksum": "63a6ef2bd1b344972130a2dad48fdb23",
     "grade": false,
     "grade_id": "cell-dae4154c3593797a",
     "locked": true,
     "schema_version": 3,
     "solution": false,
     "task": false
    }
   },
   "source": [
    "## 4.4 Improving hierarchical clustering\n",
    "### 4.4.1 Preprocessing and parameter tuning\n",
    "In the previous exercise we observed that the hierarchical clustering results we obtained have room for improvement. In this exercise, you will think about how we can best improve our clustering result, using preprocessing and/or parameter tuning. \n",
    "> 4.4.1 (2 points) What combination of preprocessing, distance measures and linkage gives you the best improvement (if any)? Make plots of the best clustering you obtained. Do this for all 4 datasets. Explain why you chose a certain combination. **Try to reason what is best based on the plots in the previous exercise. Trying all options is too time-consuming!** In every case, you should have 4 clusters.\n",
    "\n",
    "To narrow down the search space, you should only consider the following options:\n",
    "+ Preprocessing:\n",
    "    + No preprocessing\n",
    "    + Mean-centering\n",
    "    + Standardization\n",
    "+ Distance measures:\n",
    "    + Euclidean\n",
    "    + Manhattan\n",
    "    + Cosine\n",
    "+ Linkage\n",
    "    + Single\n",
    "    + Average\n",
    "    + Complete"
   ]
  },
  {
   "cell_type": "code",
   "execution_count": null,
   "metadata": {
    "deletable": false,
    "nbgrader": {
     "cell_type": "code",
     "checksum": "00476602763b1790c014f27cd458ea07",
     "grade": true,
     "grade_id": "cell-f4cc26b0ea629454",
     "locked": false,
     "points": 100,
     "schema_version": 3,
     "solution": true,
     "task": false
    }
   },
   "outputs": [],
   "source": [
    "##Answer to question 4.4.1\n",
    "# YOUR CODE HERE\n",
    "raise NotImplementedError()"
   ]
  },
  {
   "cell_type": "markdown",
   "metadata": {
    "deletable": false,
    "nbgrader": {
     "cell_type": "markdown",
     "checksum": "bf607f1d6742124b7309be77a1459e58",
     "grade": true,
     "grade_id": "cell-d5e6f3ad133aadc4",
     "locked": false,
     "points": 100,
     "schema_version": 3,
     "solution": true,
     "task": false
    }
   },
   "source": [
    "YOUR ANSWER HERE"
   ]
  }
 ],
 "metadata": {
  "kernelspec": {
   "display_name": "Python 3 (ipykernel)",
   "language": "python",
   "name": "python3"
  },
  "language_info": {
   "codemirror_mode": {
    "name": "ipython",
    "version": 3
   },
   "file_extension": ".py",
   "mimetype": "text/x-python",
   "name": "python",
   "nbconvert_exporter": "python",
   "pygments_lexer": "ipython3",
   "version": "3.9.7"
  },
  "varInspector": {
   "cols": {
    "lenName": 16,
    "lenType": 16,
    "lenVar": 40
   },
   "kernels_config": {
    "python": {
     "delete_cmd_postfix": "",
     "delete_cmd_prefix": "del ",
     "library": "var_list.py",
     "varRefreshCmd": "print(var_dic_list())"
    },
    "r": {
     "delete_cmd_postfix": ") ",
     "delete_cmd_prefix": "rm(",
     "library": "var_list.r",
     "varRefreshCmd": "cat(var_dic_list()) "
    }
   },
   "types_to_exclude": [
    "module",
    "function",
    "builtin_function_or_method",
    "instance",
    "_Feature"
   ],
   "window_display": false
  }
 },
 "nbformat": 4,
 "nbformat_minor": 2
}
