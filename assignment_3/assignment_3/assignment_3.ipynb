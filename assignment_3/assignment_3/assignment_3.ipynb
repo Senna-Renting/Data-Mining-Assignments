{
 "cells": [
  {
   "cell_type": "markdown",
   "metadata": {},
   "source": [
    "Before you turn this problem in, make sure everything runs as expected. First, **restart the kernel** (in the menubar, select Kernel$\\rightarrow$Restart) and then **run all cells** (in the menubar, select Cell$\\rightarrow$Run All).\n",
    "\n",
    "Make sure you fill in any place that says `YOUR CODE HERE` or \"YOUR ANSWER HERE\", as well as your name and collaborators below:"
   ]
  },
  {
   "cell_type": "code",
   "execution_count": 1,
   "metadata": {},
   "outputs": [],
   "source": [
    "NAME = \"\"\n",
    "STUDENT_NUMBER = \"\"\n",
    "COLLABORATOR_NAME = \"\"\n",
    "COLLABORATOR_STUDENT_NUMBER = \"\""
   ]
  },
  {
   "cell_type": "markdown",
   "metadata": {},
   "source": [
    "---"
   ]
  },
  {
   "cell_type": "markdown",
   "metadata": {},
   "source": [
    "## **Important:** When handing in your homework:\n",
    "+ Hand in the notebook (and nothing else) **named as follows**: StudentName1_snumber_StudentName2_snumber.ipynb\n",
    "+ Provide clear and complete answers to the questions below under a separate header (not hidden somewhere in your source code), and make sure to explain your answers / motivate your choices. Add Markdown cells where necessary.\n",
    "+ Source code, output graphs, derivations, etc., should be included in the notebook.\n",
    "+ Hand-in: upload to Brightspace.\n",
    "+ Include name, student number, assignment (especially in filenames)!\n",
    "+ When working in pairs only one of you should upload the assignment, and report the name of your partner in your filename.\n",
    "+ Use the Brightspace discussion board or email the student assistants for questions on how to complete the exercises.\n",
    "+ If you find mistakes/have suggestions/would like to complain about the assigment material itself, please email me [Roel] at `Roel.Bouman@ru.nl`\n",
    "+ Do not remove any cells in the notebook, else this might break the auto-grading system. **An invalid notebook will mean a severe reduction in your grade!**\n",
    "+ Many online collaboration platforms remove metadata from notebooks, which breaks the auto-grading system. Again, **An invalid notebook will mean a severe reduction in your grade!**. Should you wish to use these platforms, copy the answers from the online notebook to one running on your own machine with Anaconda, and then execute all cells.\n",
    "+ Only type your answers in those places where they are asked.\n",
    "+ Remove any \"raise NotImplementedError()\" statements in the cells you answered."
   ]
  },
  {
   "cell_type": "markdown",
   "metadata": {
    "deletable": false,
    "editable": false,
    "nbgrader": {
     "cell_type": "markdown",
     "checksum": "3b1784c96f9c752c65efdfba125cf8c1",
     "grade": false,
     "grade_id": "cell-0eb0b9d9af6d400c",
     "locked": true,
     "schema_version": 3,
     "solution": false,
     "task": false
    }
   },
   "source": [
    "# Assignment 3\n",
    "\n",
    "## Objective of this assignment\n",
    "The objective of this exercise is to become familiar with fitting decision trees and\n",
    "making ROC curves in Python.\n",
    "\n",
    "\n",
    "## **Important:** When handing in your homework:\n",
    "+ Hand in the notebook **(and nothing else)** named as follows: StudentName1_snumber_StudentName2_snumber.ipynb\n",
    "+ Provide clear and complete answers to the questions below under a separate header (not hidden somewhere in your source code), and make sure to explain your answers / motivate your choices. Add Markdown cells where necessary.\n",
    "+ Source code, output graphs, derivations, etc., should be included in the notebook.\n",
    "+ Hand-in: upload to Brightspace.\n",
    "+ Include name, student number, assignment (especially in filenames)!\n",
    "+ When working in pairs only one of you should upload the assignment, and report the name of your partner in your filename.\n",
    "+ Use the Brightspace discussion board or email the student assistants for questions on how to complete the exercises.\n",
    "+ If you find mistakes/have suggestions/would like to complain about the assigment material itself, please email me [Roel] at `Roel.Bouman@ru.nl`\n",
    "\n",
    "\n",
    "## Advised Reading and Exercise Material\n",
    "**The following reading material is recommended:**\n",
    "\n",
    "Pang-Ning Tan, Michael Steinbach, and Vipin Kumar, Introduction to Data Mining, section 4.1-4.6, as well as the included article (in the papers folder) on ROC curves.\n"
   ]
  },
  {
   "cell_type": "markdown",
   "metadata": {
    "deletable": false,
    "editable": false,
    "nbgrader": {
     "cell_type": "markdown",
     "checksum": "da5c9e475e847849e8cfea0b1414ea72",
     "grade": false,
     "grade_id": "cell-e57a3cb420be9f3a",
     "locked": true,
     "schema_version": 3,
     "solution": false,
     "task": false
    }
   },
   "source": [
    "## 3.1 Decision trees\n",
    "\n",
    "In this part of the exercise we will fit decision trees using the scikitlearn classifier\n",
    "`sklearn.tree.DecisionTreeClassifier`. As a splitting criterion, the function uses\n",
    "one of the following two impurity measures:\n",
    "\n",
    "\\begin{equation} \\textrm{gdi}(t) = -\\sum_{i=1}^C p(i|t)^2 \\quad \\text{       equivalent to Gini(t)} \\end{equation}   \n",
    "\n",
    "\\begin{equation}\n",
    "\\textrm{deviance}(t) = -2\\sum_{i=1}^C p(i|t) \\log p(i|t) \\quad \\text{equivalent to Entropy(t)} \n",
    "\\end{equation}\n",
    "\n",
    "We will analyze the wine data we have used previously. The wine data set has the following attributes, all of which are continuous: \n",
    "\n",
    "\n",
    "| #             | Attribute     | Unit  |\n",
    "| ------------- |:-------------| -----:|\n",
    "|1 | Fixed acidity (tartaric) | g/dm$^3$ |\n",
    "|2 | Volatile acidity (acetic) | g/dm$^3$ |\n",
    "|3 | Citric acid | g/dm$^3$ |\n",
    "|4 | Residual sugar | g/dm$^3$ |\n",
    "|5 | Chlorides | g/dm$^3$ |\n",
    "|6 | Free sulfur dioxide | mg/dm$^3$ |\n",
    "|7 | Total sulfur dioxide | mg/dm$^3$ |\n",
    "|8 | Density | g/cm$^3$ |\n",
    "|9 | pH | pH |\n",
    "|10 | Sulphates | g/dm$^3$ |\n",
    "|11 | Alcohol | % vol. | \n",
    "\n",
    "\n",
    "#### 3.1.1\n",
    "(0.5 pts) Load the wine data set `data/wine.mat` using the `scipy.io` `loadmat` function. This contains the same data as used in the earlier assignment, but with outliers and the 12th attribute already removed. Create data matrix `X`, class vector `y` (flattened!), and the lists `attribute_names` and `class_names` with the data provided in the `wine.mat` file. Print out the  `attribute_names` and `class_names` to make sure it's a **list of strings**.\n",
    "\n",
    "> **hints:**   \n",
    "The object in wine.mat is a dictionary. The attributes are stored in matrix `X`, the class in vector `y`. `y` is shaped as an array containing single element arrays. To flatten `y`, you can use `y.ravel()`, which unravels matrices into a 1d array. Attribute names and class names are stored in the `attributeNames` and `classNames` objects, which contain arrays, of which the first element contains the names. To get the names from those arrays, you can use list comprehension or for-loops. For more on list comprehension, check https://www.digitalocean.com/community/tutorials/understanding-list-comprehensions-in-python-3. For example, if you have an larger array containing nested arrays of which you want the first element, you can try `new_array = [nested_array[0] for nested_array in larger_array]`.\n",
    "\n"
   ]
  },
  {
   "cell_type": "code",
   "execution_count": 2,
   "metadata": {
    "deletable": false,
    "nbgrader": {
     "cell_type": "code",
     "checksum": "0d58a98e2cc86599323d17d40b3f4847",
     "grade": false,
     "grade_id": "cell-dafe673c7454eb88",
     "locked": false,
     "schema_version": 3,
     "solution": true,
     "task": false
    }
   },
   "outputs": [
    {
     "ename": "NotImplementedError",
     "evalue": "",
     "output_type": "error",
     "traceback": [
      "\u001b[1;31m---------------------------------------------------------------------------\u001b[0m",
      "\u001b[1;31mNotImplementedError\u001b[0m                       Traceback (most recent call last)",
      "\u001b[1;32m~\\AppData\\Local\\Temp/ipykernel_19688/1062588511.py\u001b[0m in \u001b[0;36m<module>\u001b[1;34m\u001b[0m\n\u001b[0;32m      6\u001b[0m \u001b[1;33m\u001b[0m\u001b[0m\n\u001b[0;32m      7\u001b[0m \u001b[1;31m# YOUR CODE HERE\u001b[0m\u001b[1;33m\u001b[0m\u001b[1;33m\u001b[0m\u001b[1;33m\u001b[0m\u001b[0m\n\u001b[1;32m----> 8\u001b[1;33m \u001b[1;32mraise\u001b[0m \u001b[0mNotImplementedError\u001b[0m\u001b[1;33m(\u001b[0m\u001b[1;33m)\u001b[0m\u001b[1;33m\u001b[0m\u001b[1;33m\u001b[0m\u001b[0m\n\u001b[0m",
      "\u001b[1;31mNotImplementedError\u001b[0m: "
     ]
    }
   ],
   "source": [
    "X = None\n",
    "y = None\n",
    "\n",
    "attribute_names = None\n",
    "class_names = None\n",
    "\n",
    "# YOUR CODE HERE\n",
    "raise NotImplementedError()"
   ]
  },
  {
   "cell_type": "code",
   "execution_count": null,
   "metadata": {
    "deletable": false,
    "editable": false,
    "nbgrader": {
     "cell_type": "code",
     "checksum": "8f84d25130d43a159b644ef9d5f1240b",
     "grade": true,
     "grade_id": "cell-6568a24c0bf03c49",
     "locked": true,
     "points": 50,
     "schema_version": 3,
     "solution": false,
     "task": false
    }
   },
   "outputs": [],
   "source": [
    "\"\"\"Checks whether 3.1.1 output is correct\"\"\"\n",
    "\"\"\"DO NOT MODIFY THIS CELL\"\"\""
   ]
  },
  {
   "cell_type": "markdown",
   "metadata": {},
   "source": [
    "#### 3.1.2\n",
    " (1.5 pts) Fit a decision tree, name it `dtc`, to the wine data in order to estimate if the wine is red or white. Use the Gini (gdi) splitting criterion. Use `min_samples_split=100` as the initial stopping criterion. After fitting the tree, visualize it with the `plot_tree` function in the scikit-learn library. Pass the `attribute_names` and `class_names` variables to `plot_tree` in order for a more interpretable visualization.\n",
    " \n",
    "Explain what happens when you change the values of the parameter `min_samples_split`, try adjusting it, and report your results!. \n",
    "\n",
    "> **hints:**   \n",
    "Helpful documentation for the `DecisionTreeClassifier` function can be found at * http://scikit-learn.org/stable/modules/tree.html#classification  \n",
    "You can change the settings of `plot_tree` to make the tree more interpretable. Read the documentation!\n",
    "If the tree appears small, you can change the size of the plotting area by adjusting the `figsize` parameter of the `plt.figure` function, which you should call before calling `plot_tree`\n",
    "Do not forget to call `plt.show()` after printing a figure!"
   ]
  },
  {
   "cell_type": "code",
   "execution_count": null,
   "metadata": {
    "deletable": false,
    "nbgrader": {
     "cell_type": "code",
     "checksum": "f2110d803e27bef3bfe97d5c7de7c734",
     "grade": true,
     "grade_id": "cell-d8b65c3ee3bf0ca4",
     "locked": false,
     "points": 100,
     "schema_version": 3,
     "solution": true,
     "task": false
    }
   },
   "outputs": [],
   "source": [
    "dtc = None\n",
    "\n",
    "# YOUR CODE HERE\n",
    "raise NotImplementedError()"
   ]
  },
  {
   "cell_type": "markdown",
   "metadata": {
    "deletable": false,
    "nbgrader": {
     "cell_type": "markdown",
     "checksum": "283d36f0a26f77ef5d810674eca9ca37",
     "grade": true,
     "grade_id": "cell-64a91724bf3ae28b",
     "locked": false,
     "points": 50,
     "schema_version": 3,
     "solution": true,
     "task": false
    }
   },
   "source": [
    "YOUR ANSWER HERE"
   ]
  },
  {
   "cell_type": "markdown",
   "metadata": {
    "deletable": false,
    "editable": false,
    "nbgrader": {
     "cell_type": "markdown",
     "checksum": "00f761f140a3c42d4a7c893b818e7a78",
     "grade": false,
     "grade_id": "cell-c086c1b12b54fab8",
     "locked": true,
     "schema_version": 3,
     "solution": false,
     "task": false
    }
   },
   "source": [
    "#### 3.1.3\n",
    "\n",
    "(0.5 pts) Show that a wine with the following attribute values would be classified as white by the tree fitted in 3.1.2, by applying the `predict()` function from the DecisionTreeClassifier to this sample.  Have another look at the visualized tree. Which attributes are used to classify this wine? You can use the `decision_path` function to specifically print the path for a certain sample.\n",
    "\n",
    "| #             | Attribute     | Value  |\n",
    "| ------------- |:-------------| -----:|\n",
    "|1 | Fixed acidity (tartaric) | 6.9 g/dm$^3$ |\n",
    "|2 | Volatile acidity (acetic) | 1.09 g/dm$^3$ |\n",
    "|3 | Citric acid | 0.06 g/dm$^3$ |\n",
    "|4 | Residual sugar | 2.1 g/dm$^3$ |\n",
    "|5 | Chlorides | 0.0061 g/dm$^3$ |\n",
    "|6 | Free sulfur dioxide | 12 mg/dm$^3$ |\n",
    "|7 | Total sulfur dioxide | 31 mg/dm$^3$ |\n",
    "|8 | Density | 0.99 g/cm$^3$ |\n",
    "|9 | pH | 3.5 |\n",
    "|10 | Sulphates | 0.64 g/dm$^3$ |\n",
    "|11 | Alcohol | 12 % vol. | \n",
    "\n",
    "**helpful hint:**\n",
    "> If you don't know how to classify input values with a tree, see the help documentation for the DecisionTreeClassifier function on how to predict the label for a sample. "
   ]
  },
  {
   "cell_type": "code",
   "execution_count": null,
   "metadata": {
    "deletable": false,
    "nbgrader": {
     "cell_type": "code",
     "checksum": "2fc536b8499c01eedf146148b389be7a",
     "grade": true,
     "grade_id": "cell-7888cbcb821bd66c",
     "locked": false,
     "points": 25,
     "schema_version": 3,
     "solution": true,
     "task": false
    }
   },
   "outputs": [],
   "source": [
    "# YOUR CODE HERE\n",
    "raise NotImplementedError()"
   ]
  },
  {
   "cell_type": "markdown",
   "metadata": {
    "deletable": false,
    "nbgrader": {
     "cell_type": "markdown",
     "checksum": "5db44ba2ee7f933401075975a7af010f",
     "grade": true,
     "grade_id": "cell-7e255418c12aa344",
     "locked": false,
     "points": 25,
     "schema_version": 3,
     "solution": true,
     "task": false
    }
   },
   "source": [
    "YOUR ANSWER HERE"
   ]
  },
  {
   "cell_type": "markdown",
   "metadata": {
    "deletable": false,
    "editable": false,
    "nbgrader": {
     "cell_type": "markdown",
     "checksum": "f42e59fe16f66eafbc1c582538e97fe8",
     "grade": false,
     "grade_id": "cell-9662704c322137b0",
     "locked": true,
     "schema_version": 3,
     "solution": false,
     "task": false
    }
   },
   "source": [
    "#### 3.1.4\n",
    "(1 pts) Classify all the wines in the wine data set. What is the classification accuracy of the tree on the wine data? Save the accuracy (which should be a number between 0 and 1) to a variable called `accuracy` and print it. \n",
    "\n",
    "Why is the accuracy we've calculated in this experiment not a good measure of the performance of our classifier?\n"
   ]
  },
  {
   "cell_type": "code",
   "execution_count": null,
   "metadata": {
    "deletable": false,
    "nbgrader": {
     "cell_type": "code",
     "checksum": "36abeb95f25e3a830e3a40c786edb5f9",
     "grade": false,
     "grade_id": "cell-99ab93fef6a1279a",
     "locked": false,
     "schema_version": 3,
     "solution": true,
     "task": false
    }
   },
   "outputs": [],
   "source": [
    "accuracy = None\n",
    "# YOUR CODE HERE\n",
    "raise NotImplementedError()"
   ]
  },
  {
   "cell_type": "markdown",
   "metadata": {
    "deletable": false,
    "nbgrader": {
     "cell_type": "markdown",
     "checksum": "fe9dd375141c45e3ad0dbcf66a71bf14",
     "grade": true,
     "grade_id": "cell-7c7e69906fd445ac",
     "locked": false,
     "points": 50,
     "schema_version": 3,
     "solution": true,
     "task": false
    }
   },
   "source": [
    "YOUR ANSWER HERE"
   ]
  },
  {
   "cell_type": "code",
   "execution_count": null,
   "metadata": {
    "deletable": false,
    "editable": false,
    "nbgrader": {
     "cell_type": "code",
     "checksum": "0e0efa15e7740bd36b9c450e61fd64a6",
     "grade": true,
     "grade_id": "cell-2bb4b42abe10a0f0",
     "locked": true,
     "points": 50,
     "schema_version": 3,
     "solution": false,
     "task": false
    }
   },
   "outputs": [],
   "source": [
    "\"\"\"Checks whether 3.1.4 output is correct\"\"\"\n",
    "\"\"\"DO NOT MODIFY THIS CELL\"\"\""
   ]
  },
  {
   "cell_type": "markdown",
   "metadata": {
    "deletable": false,
    "editable": false,
    "nbgrader": {
     "cell_type": "markdown",
     "checksum": "c812805635680f9ece56045f753000e3",
     "grade": false,
     "grade_id": "cell-ec39e5c8e9f6db3b",
     "locked": true,
     "schema_version": 3,
     "solution": false,
     "task": false
    }
   },
   "source": [
    "## 3.2 Decision tree pruning using cross-validation\n",
    "\n",
    "In this exercise we will use cross-validation to prune a decision tree. When applying cross-validation the observed data is split into training and test sets, i.e., `X_train`, `y_train` and `X_test` and `y_test`. We train the model on the training data and evaluate the performance of the trained model on the test data.\n",
    "\n",
    "#### 3.2.1\n",
    "(2 pts) We are again using the wine data set `data/wine.mat`. \n",
    "\n",
    "Divide the data into a training and a test data set by applying holdout cross-validation(see hints!). Use a **stratified** split, and set the percentage of training data to 33%.\n",
    "\n",
    "\n",
    "Now, we want to find an optimally pruned decision tree by *modifying its maximum depth*. For different values of the parameter `depth` (from 2 up to and incuding 20), \n",
    "+ create the decision tree object\n",
    "+ fit the decision tree\n",
    "+ predict the labels of the train and test data separately (name them `y_test_pred` and `y_train_pred`)\n",
    "+ then compute the classification error on the training and test set\n",
    "\n",
    "Plot the training and test classification error, in the same figure, as a function of the tree depth. **Add a legend to the plot!** This will show us what the optimal pruning depth is for the training set, but also how well this generalizes to a test set. Let the `min_samples_split` variable be its default value.\n",
    "\n",
    "What appears to be the optimal tree depth? Do you get the same result when you run your code again, generating a new random split between training and test data?\n",
    "\n",
    "What happens to the test and train error when you set the `min_samples_split` parameter to 100?\n",
    "\n",
    "**Helpful hints:**  \n",
    "> Take a look at the module `sklearn.model_selection` and see how it can be used to partition the data into a training and a test set (holdout validation, `train_test_split()` function). Note that the package also contains functions to partition data for K-fold cross-validation. Some of the functions can ensure that both training and test sets have roughly the same class proportions. Read the documentation, and make sure you have a stratified split!\n",
    "> The error is calculated as $1-accuracy$. The easiest way to compute the accuracy is by using the sklearn metrics module: \n",
    " https://scikit-learn.org/stable/modules/generated/sklearn.metrics.accuracy_score.html \n",
    "\n",
    "\n"
   ]
  },
  {
   "cell_type": "code",
   "execution_count": null,
   "metadata": {
    "deletable": false,
    "nbgrader": {
     "cell_type": "code",
     "checksum": "34cf2e16c39d2543e940cf1820a28d4a",
     "grade": true,
     "grade_id": "cell-1d190c8d667dc29a",
     "locked": false,
     "points": 150,
     "schema_version": 3,
     "solution": true,
     "task": false
    }
   },
   "outputs": [],
   "source": [
    "random_state = 1337\n",
    "X_train, X_test, y_train, y_test = None, None, None, None\n",
    "\n",
    "# YOUR CODE HERE\n",
    "raise NotImplementedError()\n"
   ]
  },
  {
   "cell_type": "markdown",
   "metadata": {
    "deletable": false,
    "nbgrader": {
     "cell_type": "markdown",
     "checksum": "5c617f8a7405e991db8a74f823b2d451",
     "grade": true,
     "grade_id": "cell-56f7eeac20bb6cd8",
     "locked": false,
     "points": 50,
     "schema_version": 3,
     "solution": true,
     "task": false
    }
   },
   "source": [
    "YOUR ANSWER HERE"
   ]
  },
  {
   "cell_type": "markdown",
   "metadata": {
    "deletable": false,
    "editable": false,
    "nbgrader": {
     "cell_type": "markdown",
     "checksum": "415ab1adc09e099565ce2bde3ad1524e",
     "grade": false,
     "grade_id": "cell-525a15357d45d946",
     "locked": true,
     "schema_version": 3,
     "solution": false,
     "task": false
    }
   },
   "source": [
    "#### 3.2.2\n",
    "(1.5 pts) Repeat the exercise above, using **stratified** 10-fold cross-validation. K-fold cross-validation works by splitting `X` into K partitions of equal length. Then in each fold, you choose K-1 partitions as the training set and the remaining partition as the test set. Every partition gets a turn being a test set. For a very nice simple explanation of how (and why) K-fold works, check out http://www.dummies.com/programming/big-data/data-science/resorting-cross-validation-machine-learning/\n",
    "\n",
    "You will need a double for loop for this exercise. Think about what the best order of the loops is.\n",
    "\n",
    "For each fold, fit a decision tree on the training set and evaluate its performance on the test set. \n",
    "Finally, compute the average classification errors on the test- and training sets across the 10 cross-validation folds and plot them as a function of the tree depth.\n",
    "\n",
    "What appears to be the optimal tree depth? Do you get the same result when you run your code again, generating a new random split between training and test data? How about 100-fold cross-validation?\n",
    "\n",
    "> **hints:**\n",
    "This time the `StratifiedKFold()` function from the module `sklearn.model_selection` can be used to partition the data into the 10 training and test partitions. Check out http://scikit-learn.org/stable/modules/cross_validation.html#k-fold for an example of how to acces the indices for the training set and the test set in each fold. Those indices can then be used to create the training and test set, e.g. `X_train = X[train_indices]`\n",
    "If you are creating a for loop iterating over an object where you both need the index and the elements of the object, you can enumerate the object. For example:\n",
    "\n",
    "`\n",
    "for index, (element) in enumerate(object):\n",
    "    array[index] = operation(element)\n",
    "`"
   ]
  },
  {
   "cell_type": "code",
   "execution_count": null,
   "metadata": {
    "deletable": false,
    "nbgrader": {
     "cell_type": "code",
     "checksum": "88baca865c36534f0ab6213573616cc4",
     "grade": true,
     "grade_id": "cell-d197f2019c31a64f",
     "locked": false,
     "points": 100,
     "schema_version": 3,
     "solution": true,
     "task": false
    }
   },
   "outputs": [],
   "source": [
    "# YOUR CODE HERE\n",
    "raise NotImplementedError()"
   ]
  },
  {
   "cell_type": "markdown",
   "metadata": {
    "deletable": false,
    "nbgrader": {
     "cell_type": "markdown",
     "checksum": "45e683c4995f33cb96a7e2fbe3da232c",
     "grade": true,
     "grade_id": "cell-6bbd24668bdb3c9d",
     "locked": false,
     "points": 50,
     "schema_version": 3,
     "solution": true,
     "task": false
    }
   },
   "source": [
    "YOUR ANSWER HERE"
   ]
  },
  {
   "cell_type": "markdown",
   "metadata": {
    "deletable": false,
    "editable": false,
    "nbgrader": {
     "cell_type": "markdown",
     "checksum": "57d74849a4f60a37ef3bd7c960c21df9",
     "grade": false,
     "grade_id": "cell-432cb3d4c7115470",
     "locked": true,
     "schema_version": 3,
     "solution": false,
     "task": false
    }
   },
   "source": [
    " ## 3.3 ROC curves, AUC scores, and the sign test\n",
    "\n",
    "In this exercise we will use ROC curves and the sign test to compare classifiers. Study the lecture slides and the paper 'ROC Graphs: Notes and Practical Considerations for Researchers' by Tom Fawcett included with the homework assignment (ROC101.pdf). It describes all you need to know (and much, much more..) about ROC curves. The method explained for computing the area under the curve is unnecessarily complicated. A simpler formula is:\n",
    "$$\n",
    "    \\mbox{AUC} = {1 \\over m n} \\sum_{i=1}^m \\sum_{j=1}^n \\mathbf{\\large 1}_{p_i > p_j} \\: .\n",
    "   $$\n",
    "Here $i$ runs over all $m$ data points with true label 1, and $j$ runs over all $n$ data points with true label $0$; $p_i$ and $p_j$ denote the probability score assigned by the classifier to data point $i$ and $j$, respectively. $\\mathbf{\\large 1}$ is the indicator function: it outputs $1$ if the condition (here $p_i > p_j$) is satisfied and $0$ otherwise. *Simply put: this formula computes how often the probability of a data point with true label 1 is higher than the probability of data points with true label 0. This is then divided by the total number of comparisons between probabilities.*\n",
    "    \n",
    "\n",
    "#### 3.3.1\n",
    "(0.25 pts) To make sure you understand how ROC works, make an ROC curve and calculate the AUC with the following data:\n",
    "\n",
    "`\n",
    "labels = [0,0,0,1,0,1,1,0,1,1]\n",
    "classifier_probs = [0.1,0.2,0.3,0.4,0.5,0.6,0.7,0.8,0.9,0.99]\n",
    "`\n",
    "\n",
    "\n",
    "What's the AUC you calculated? Save the calculated AUC to a variable called `auc_score_3_3_1` \n",
    "\n",
    "Do you think this classifier works well?\n",
    "\n",
    "> **hints:**\n",
    "You can use the `sklearn.metrics.roc_auc_score` function to calculate the AUC.\n"
   ]
  },
  {
   "cell_type": "code",
   "execution_count": 50,
   "metadata": {
    "deletable": false,
    "nbgrader": {
     "cell_type": "code",
     "checksum": "49f366a4d9bea788469bdef46b3c2595",
     "grade": false,
     "grade_id": "cell-e0dc8d851a9145fe",
     "locked": false,
     "schema_version": 3,
     "solution": true,
     "task": false
    }
   },
   "outputs": [
    {
     "data": {
      "image/png": "[encoded data removed]",
      "text/plain": [
       "<Figure size 432x288 with 1 Axes>"
      ]
     },
     "metadata": {
      "needs_background": "light"
     },
     "output_type": "display_data"
    },
    {
     "name": "stdout",
     "output_type": "stream",
     "text": [
      "0.8400000000000001\n"
     ]
    }
   ],
   "source": [
    "from sklearn import metrics\n",
    "import matplotlib.pyplot as plt\n",
    "\n",
    "labels = [0,0,0,1,0,1,1,0,1,1]\n",
    "classifier_probs = [0.1,0.2,0.3,0.4,0.5,0.6,0.7,0.8,0.9,0.99]\n",
    "\n",
    "fpr_1, tpr_1, _ = metrics.roc_curve(labels,  classifier_probs)\n",
    "auc_score_3_3_1 = metrics.roc_auc_score(labels, classifier_probs)\n",
    "plt.plot(fpr_1,tpr_1,label=\"AUC=\"+str(auc_score_3_3_1))\n",
    "plt.ylabel('True Positive Rate')\n",
    "plt.xlabel('False Positive Rate')\n",
    "plt.legend(loc=4)\n",
    "plt.show()\n",
    "\n",
    "print(auc_score_3_3_1)"
   ]
  },
  {
   "cell_type": "code",
   "execution_count": null,
   "metadata": {
    "deletable": false,
    "editable": false,
    "nbgrader": {
     "cell_type": "code",
     "checksum": "7172e95a65cc7c66f69e8cf2176b2e36",
     "grade": true,
     "grade_id": "cell-c55db55dab09eae2",
     "locked": true,
     "points": 15,
     "schema_version": 3,
     "solution": false,
     "task": false
    }
   },
   "outputs": [],
   "source": [
    "\"\"\"Checks whether 3.3.1 output is correct\"\"\"\n",
    "\"\"\"DO NOT MODIFY THIS CELL\"\"\""
   ]
  },
  {
   "cell_type": "markdown",
   "metadata": {
    "deletable": false,
    "nbgrader": {
     "cell_type": "markdown",
     "checksum": "00e720db25f2b00b7c83be817389015d",
     "grade": true,
     "grade_id": "cell-c4304377714a1f24",
     "locked": false,
     "points": 10,
     "schema_version": 3,
     "solution": true,
     "task": false
    }
   },
   "source": [
    "The classifier has a AUC of 0.84. It therefore works okay and better than random guessing."
   ]
  },
  {
   "cell_type": "markdown",
   "metadata": {
    "deletable": false,
    "editable": false,
    "nbgrader": {
     "cell_type": "markdown",
     "checksum": "519ccb01c98c1716c3c4f58f63379dfe",
     "grade": false,
     "grade_id": "cell-f5b6546fe497909c",
     "locked": true,
     "schema_version": 3,
     "solution": false,
     "task": false
    }
   },
   "source": [
    "#### 3.3.2\n",
    "(0.25 pts) Load the file `data/classprobs.xls` using the Pandas `read_excel` function. **Think about what to do with the `header` argument!** Inspect the data and cast it to a Numpy array with the `.to_numpy` method. The first column gives the true class label (either 0 or 1). The second and third column give the probabilistic scores for two different classifiers. The higher this probability, the more certain the classifier is that the example belongs to class 1 (instead of class 0). Save the class labels to a variable called `true_class`, the predicted probabilities of the first classifier to `pred1` and those of the second classifier to `pred2`. All of these should be Numpy arrays.\n"
   ]
  },
  {
   "cell_type": "code",
   "execution_count": 95,
   "metadata": {
    "deletable": false,
    "nbgrader": {
     "cell_type": "code",
     "checksum": "63277a4308b067052d3f61aa5bec6b13",
     "grade": false,
     "grade_id": "cell-b2413d8abe0c9348",
     "locked": false,
     "schema_version": 3,
     "solution": true,
     "task": false
    }
   },
   "outputs": [],
   "source": [
    "import pandas as pd\n",
    "\n",
    "excel_data = pd.read_excel('data/classprobs.xls', header=None)\n",
    "\n",
    "excel_numpy = excel_data.to_numpy()\n",
    "\n",
    "true_class = excel_numpy[ :,0]\n",
    "pred1 = excel_numpy[ :,1]\n",
    "pred2 = excel_numpy[ :,2]\n",
    "\n"
   ]
  },
  {
   "cell_type": "code",
   "execution_count": 32,
   "metadata": {
    "deletable": false,
    "editable": false,
    "nbgrader": {
     "cell_type": "code",
     "checksum": "d5902e0da2ef77aa925d485f62f6ffa7",
     "grade": true,
     "grade_id": "cell-5d04b55424a99963",
     "locked": true,
     "points": 25,
     "schema_version": 3,
     "solution": false,
     "task": false
    }
   },
   "outputs": [
    {
     "data": {
      "text/plain": [
       "'DO NOT MODIFY THIS CELL'"
      ]
     },
     "execution_count": 32,
     "metadata": {},
     "output_type": "execute_result"
    }
   ],
   "source": [
    "\"\"\"Checks whether 3.3.2 output is correct\"\"\"\n",
    "\"\"\"DO NOT MODIFY THIS CELL\"\"\""
   ]
  },
  {
   "cell_type": "markdown",
   "metadata": {
    "deletable": false,
    "editable": false,
    "nbgrader": {
     "cell_type": "markdown",
     "checksum": "9e5f19567a5be705afcdaad0d57160ad",
     "grade": false,
     "grade_id": "cell-ff51b4c155f5ea0d",
     "locked": true,
     "schema_version": 3,
     "solution": false,
     "task": false
    }
   },
   "source": [
    "#### 3.3.3\n",
    "(0.75 pts) Calculate the ROC curves for both of the classifiers by calculating the FP and TP rates and plot them in the same plot. Make the plot yourself as opposed to using a library! Also plot a dashed line on the diagonal to represent random guessing in the same figure. Interpret the obtained results. Do both classifiers perform better than random guessing?\n",
    "\n",
    "** hints: **  \n",
    "*The function `sklearn.metrics.roc_curve` can be used for computing the FP and TP rates. You can then plot them using the `matplotlib.pyplot` `plot` function. Check the documentation on how to plot a dashed line. Remember to include a legend!* \n",
    "\n",
    "**An extra tip: the sign test example below includes a figure with dashed lines and a legend...**\n",
    " "
   ]
  },
  {
   "cell_type": "code",
   "execution_count": 96,
   "metadata": {
    "deletable": false,
    "nbgrader": {
     "cell_type": "code",
     "checksum": "9a68f73c081dc0ddeb1297c63d0875ca",
     "grade": true,
     "grade_id": "cell-b531ab0d9c358ebe",
     "locked": false,
     "points": 50,
     "schema_version": 3,
     "solution": true,
     "task": false
    }
   },
   "outputs": [
    {
     "data": {
      "image/png": "[encoded data removed]",
      "text/plain": [
       "<Figure size 432x288 with 1 Axes>"
      ]
     },
     "metadata": {
      "needs_background": "light"
     },
     "output_type": "display_data"
    }
   ],
   "source": [
    "\n",
    "\n",
    "fpr_class1, tpr_class1, _ = metrics.roc_curve(true_class, pred1)\n",
    "fpr_class2, tpr_class2, _ = metrics.roc_curve(true_class, pred2)\n",
    "\n",
    "plt.plot(fpr_class1,tpr_class1, label = \"classifier 1\")\n",
    "plt.plot(fpr_class2,tpr_class2, label = \"classifier 2\")\n",
    "plt.plot([0,1],[0,1], ls = \"--\")\n",
    "plt.ylabel('True Positive Rate')\n",
    "plt.xlabel('False Positive Rate')\n",
    "plt.legend()\n",
    "\n",
    "plt.show()\n",
    "\n"
   ]
  },
  {
   "cell_type": "markdown",
   "metadata": {
    "deletable": false,
    "nbgrader": {
     "cell_type": "markdown",
     "checksum": "4baa40a4a73331e4abdf7f5455d6cb4c",
     "grade": true,
     "grade_id": "cell-ad43ff3301e3b659",
     "locked": false,
     "points": 25,
     "schema_version": 3,
     "solution": true,
     "task": false
    }
   },
   "source": [
    "Both classifiers work better than random guessing. Classifier 1 works better than classifier 2. "
   ]
  },
  {
   "cell_type": "markdown",
   "metadata": {
    "deletable": false,
    "editable": false,
    "nbgrader": {
     "cell_type": "markdown",
     "checksum": "be64206a7fa41b4677809a555b569e71",
     "grade": false,
     "grade_id": "cell-4df6c365eeeb9dbf",
     "locked": true,
     "schema_version": 3,
     "solution": false,
     "task": false
    }
   },
   "source": [
    "#### 3.3.4\n",
    "(0.5 pts) Compute the AUC scores (area under the curve) of both classifiers using the formula given above. **Write your own code for this calculation.** Do the AUC scores indicate that the classifiers are performing better than this baseline? Save the AUC scores for both classifiers to variables called `AUC1` and `AUC2` respectively."
   ]
  },
  {
   "cell_type": "code",
   "execution_count": 117,
   "metadata": {
    "deletable": false,
    "nbgrader": {
     "cell_type": "code",
     "checksum": "731f3a140b0ad3dca8e45a7e38722c34",
     "grade": false,
     "grade_id": "cell-da2d46cc1f1bba7d",
     "locked": false,
     "schema_version": 3,
     "solution": true,
     "task": false
    }
   },
   "outputs": [],
   "source": [
    "def calc_auc(truth, prob):\n",
    "    total = 0\n",
    "    m = 0 \n",
    "    n = 0\n",
    "    for idi, i in enumerate(truth):\n",
    "        if i == 1:\n",
    "            m+=1\n",
    "            for idj, j in enumerate(truth):\n",
    "                if j == 0:\n",
    "                    if prob[idi]>prob[idj]:\n",
    "                        total+=1\n",
    "    return total/(m*(truth.size-m))\n",
    "\n",
    "AUC1 = calc_auc(true_class, pred1)\n",
    "AUC2 = calc_auc(true_class, pred2)\n"
   ]
  },
  {
   "cell_type": "code",
   "execution_count": null,
   "metadata": {
    "deletable": false,
    "editable": false,
    "nbgrader": {
     "cell_type": "code",
     "checksum": "0e040507f4f312a3951372d1add26a7b",
     "grade": true,
     "grade_id": "cell-1edafa379f46465a",
     "locked": true,
     "points": 40,
     "schema_version": 3,
     "solution": false,
     "task": false
    }
   },
   "outputs": [],
   "source": [
    "\"\"\"Checks whether 3.3.4 output is correct\"\"\"\n",
    "\"\"\"DO NOT MODIFY THIS CELL\"\"\""
   ]
  },
  {
   "cell_type": "markdown",
   "metadata": {
    "deletable": false,
    "nbgrader": {
     "cell_type": "markdown",
     "checksum": "13c35941f4c3747e4c822cd0875200dd",
     "grade": true,
     "grade_id": "cell-2440524372eb726b",
     "locked": false,
     "points": 10,
     "schema_version": 3,
     "solution": true,
     "task": false
    }
   },
   "source": [
    "Yes both are well over 0.5; classifier 1 performs a lot better."
   ]
  },
  {
   "cell_type": "markdown",
   "metadata": {
    "deletable": false,
    "editable": false,
    "nbgrader": {
     "cell_type": "markdown",
     "checksum": "13f88cc27b0c4bd9a517d441a3e7668f",
     "grade": false,
     "grade_id": "cell-8634341076722c85",
     "locked": true,
     "schema_version": 3,
     "solution": false,
     "task": false
    }
   },
   "source": [
    "\n",
    "#### 3.3.5\n",
    "(0.25 pts) Using a threshold of 0.5, translate the probability scores to predicted class labels, and compute the accuracy for each of the classifiers. Save them to `acc_1` and `acc_2` respectively\n",
    "\n",
    "> **hint:**\n",
    "Take a look at https://scikit-learn.org/stable/modules/generated/sklearn.metrics.accuracy_score.html *"
   ]
  },
  {
   "cell_type": "code",
   "execution_count": 116,
   "metadata": {
    "deletable": false,
    "nbgrader": {
     "cell_type": "code",
     "checksum": "012841b4f7f85161bd09e10b398c30b3",
     "grade": false,
     "grade_id": "cell-4bc56a7bb202f81a",
     "locked": false,
     "schema_version": 3,
     "solution": true,
     "task": false
    }
   },
   "outputs": [],
   "source": [
    "def pred_labels(prob):\n",
    "    if prob<0.5:\n",
    "        return 0\n",
    "    else:\n",
    "        return 1\n",
    "    \n",
    "pred_labels1 = np.array([pred_labels(i) for i in pred1])\n",
    "pred_labels2 = np.array([pred_labels(i) for i in pred2])\n",
    "\n",
    "acc_1 = metrics.accuracy_score(true_class, pred_labels1)\n",
    "acc_2 = metrics.accuracy_score(true_class, pred_labels2)"
   ]
  },
  {
   "cell_type": "code",
   "execution_count": null,
   "metadata": {
    "deletable": false,
    "editable": false,
    "nbgrader": {
     "cell_type": "code",
     "checksum": "67dc27e5b4e4b5e262fb2d7aaade4f2d",
     "grade": true,
     "grade_id": "cell-942f56c142531fe9",
     "locked": true,
     "points": 25,
     "schema_version": 3,
     "solution": false,
     "task": false
    }
   },
   "outputs": [],
   "source": [
    "\"\"\"Checks whether 3.3.5 output is correct\"\"\"\n",
    "\"\"\"DO NOT MODIFY THIS CELL\"\"\""
   ]
  },
  {
   "cell_type": "markdown",
   "metadata": {
    "deletable": false,
    "editable": false,
    "nbgrader": {
     "cell_type": "markdown",
     "checksum": "1ff149c9278300e46d058835f051d2f3",
     "grade": false,
     "grade_id": "cell-7c12353ed230a9d9",
     "locked": true,
     "schema_version": 3,
     "solution": false,
     "task": false
    }
   },
   "source": [
    "#### 3.3.6\n",
    "(1 pts) Create a 2x2 table (as Numpy array) of wrong and correct classifications by the first and the second classifier, like in the lecture slides (lecture on model evaluation, part on the sign test). Perform a sign test to test whether the performance of the two classifiers is significantly different at a significance level of 0.05. **If you are not familiar with sign testing, you can read the example provided below.** \n",
    "\n",
    "Make sure the elements in the table are at the correct position and that the table is saved as numpy array under the name `table`.\n",
    "Save the calculated p-value to a variable called `pval`.\n",
    "\n",
    "> **hints:**  \n",
    "As explained in the lecture slides, the sign test is a binomial test on the lower-left ($N_{1<2}$) and upper-right ($N_{1>2}$) elements of the cross table. Unlike in the lecture slides, here you need to perform a two-sided test: $$\\textrm{p-value} = P(W \\leq \\min(N_{1<2},N_{1>2}) \\textrm{ or } W \\geq  \\max(N_{1<2},N_{1>2})$$\n",
    "The function `scipy.stats.binom.cdf` can be used to compute the cumulative density of the binomial distribution.\n",
    "For more information on the sign test, see the included paper by Salzberg (signtest.pdf, in particular section 3.1).\n"
   ]
  },
  {
   "cell_type": "code",
   "execution_count": null,
   "metadata": {
    "deletable": false,
    "nbgrader": {
     "cell_type": "code",
     "checksum": "651a05b4ff58c0b76918f3f51fc59c7e",
     "grade": false,
     "grade_id": "cell-c1cf3e7bfc15837f",
     "locked": false,
     "schema_version": 3,
     "solution": true,
     "task": false
    }
   },
   "outputs": [],
   "source": [
    "pval = None\n",
    "\n",
    "# YOUR CODE HERE\n",
    "raise NotImplementedError()"
   ]
  },
  {
   "cell_type": "code",
   "execution_count": null,
   "metadata": {
    "deletable": false,
    "editable": false,
    "nbgrader": {
     "cell_type": "code",
     "checksum": "2861ad6aaadc3c3c01a420bc128f721e",
     "grade": true,
     "grade_id": "cell-eee1432459830ec9",
     "locked": true,
     "points": 100,
     "schema_version": 3,
     "solution": false,
     "task": false
    }
   },
   "outputs": [],
   "source": [
    "\"\"\"Checks whether 3.3.6 output is correct\"\"\"\n",
    "\"\"\"DO NOT MODIFY THIS CELL\"\"\""
   ]
  },
  {
   "cell_type": "markdown",
   "metadata": {
    "deletable": false,
    "nbgrader": {
     "cell_type": "markdown",
     "checksum": "dc17a9a05b07f2199a91625308b7f73f",
     "grade": true,
     "grade_id": "cell-9f43af942138dfc7",
     "locked": false,
     "points": 0,
     "schema_version": 3,
     "solution": true,
     "task": false
    }
   },
   "source": [
    "YOUR ANSWER HERE"
   ]
  },
  {
   "cell_type": "markdown",
   "metadata": {
    "deletable": false,
    "editable": false,
    "nbgrader": {
     "cell_type": "markdown",
     "checksum": "9e0eb44d661e0db883b404096d39f8f3",
     "grade": false,
     "grade_id": "cell-cda2386a8d52ae5d",
     "locked": true,
     "schema_version": 3,
     "solution": false,
     "task": false
    }
   },
   "source": [
    "## Example two-sided sign test\n",
    "\n",
    "Imagine you have a lucky coin, that you are certain does not result in heads 50% of the times you flip it. However, you friend (lets call him *zero_hypothesis*) claims that your coin is just like his random coin. To verify whether this is true, you decide to compare the performance (you are a scientist after all) of your lucky coin resulting in heads to the performance of his random coin resulting in heads with a sign test. How do you do this?\n",
    "\n",
    "First, you collect data. Assume you place 23 bets. During those 23 bets, you both flip your respective coins. It was determined that if one of you flipped head while the other didn't, that person won the bet, and the other person lost. If you both got the same outcome, neither of you won. 1 stands for head, and 0 for tails. These were your results:"
   ]
  },
  {
   "cell_type": "code",
   "execution_count": 68,
   "metadata": {
    "deletable": false,
    "editable": false,
    "nbgrader": {
     "cell_type": "code",
     "checksum": "17e48ce468c63492d9a5856aebad6230",
     "grade": false,
     "grade_id": "cell-f5a21ed59f640581",
     "locked": true,
     "schema_version": 3,
     "solution": false,
     "task": false
    }
   },
   "outputs": [
    {
     "name": "stdout",
     "output_type": "stream",
     "text": [
      "----------lucky | random \n",
      " bet 0   | 1 | 0\n",
      " bet 1   | 1 | 1\n",
      " bet 2   | 1 | 0\n",
      " bet 3   | 0 | 1\n",
      " bet 4   | 1 | 0\n",
      " bet 5   | 1 | 1\n",
      " bet 6   | 1 | 0\n",
      " bet 7   | 1 | 0\n",
      " bet 8   | 1 | 0\n",
      " bet 9   | 0 | 1\n",
      " bet 10  | 1 | 0\n",
      " bet 11  | 1 | 1\n",
      " bet 12  | 1 | 0\n",
      " bet 13  | 1 | 1\n",
      " bet 14  | 0 | 1\n",
      " bet 15  | 1 | 1\n",
      " bet 16  | 1 | 1\n",
      " bet 17  | 0 | 0\n",
      " bet 18  | 1 | 0\n",
      " bet 19  | 1 | 0\n",
      " bet 20  | 1 | 0\n",
      " bet 21  | 0 | 0\n",
      " bet 22  | 1 | 0\n",
      " -----\n",
      "\n"
     ]
    }
   ],
   "source": [
    "import numpy as np\n",
    "from scipy.stats import binom\n",
    "import matplotlib.pyplot as plt\n",
    "\n",
    "#results\n",
    "lucky_coin = np.array([1,1,1,0,1,1,1,1,1,0,1,1,1,1,0,1,1,0,1,1,1,0,1])\n",
    "random_coin= np.array([0,1,0,1,0,1,0,0,0,1,0,1,0,1,1,1,1,0,0,0,0,0,0])\n",
    "\n",
    "print('----------lucky | random \\n',*['bet {:<2}  | {} | {}\\n'.format(t[0],t[1],t[2]) for t in zip(range(0,len(lucky_coin)),lucky_coin,random_coin)],'-----\\n')"
   ]
  },
  {
   "cell_type": "markdown",
   "metadata": {
    "deletable": false,
    "editable": false,
    "nbgrader": {
     "cell_type": "markdown",
     "checksum": "16c6b49b44755c4284e11b8ba12c28f2",
     "grade": false,
     "grade_id": "cell-0dd098198082f84f",
     "locked": true,
     "schema_version": 3,
     "solution": false,
     "task": false
    }
   },
   "source": [
    "Now you calculate how often in any pair of outcomes one coin *won*, i.e. one coin flipped to head while the other flipped to tails."
   ]
  },
  {
   "cell_type": "code",
   "execution_count": 69,
   "metadata": {
    "deletable": false,
    "editable": false,
    "nbgrader": {
     "cell_type": "code",
     "checksum": "236adcb71a8813104b905bf463f002fb",
     "grade": false,
     "grade_id": "cell-e6735b2c2d347b8c",
     "locked": true,
     "schema_version": 3,
     "solution": false,
     "task": false
    }
   },
   "outputs": [
    {
     "name": "stdout",
     "output_type": "stream",
     "text": [
      "The lucky coin won 12 times, while the random won 3 times.\n"
     ]
    }
   ],
   "source": [
    "N_l = sum((lucky_coin == 1) & (random_coin == 0)) #how often your lucky coin won\n",
    "N_r = sum((lucky_coin == 0) & (random_coin == 1)) #how often the random coin won\n",
    "N = N_l + N_r #how often one coin was a winner\n",
    "print('The lucky coin won {} times, while the random won {} times.'.format(N_l,N_r))"
   ]
  },
  {
   "cell_type": "markdown",
   "metadata": {
    "deletable": false,
    "editable": false,
    "nbgrader": {
     "cell_type": "markdown",
     "checksum": "72f05edc79ee186520fd3c9ad938c624",
     "grade": false,
     "grade_id": "cell-f428523fc3845b7f",
     "locked": true,
     "schema_version": 3,
     "solution": false,
     "task": false
    }
   },
   "source": [
    "You observed 15 times that one coin won. If both coins resulted in heads 50% of the time, like *zero_hypothesis* stated, you'd expect that both coins have 50% chance of being the winner. So the probability distributions for both N_l and N_r should look something like this, assuming that *zero_hypothesis* is right:"
   ]
  },
  {
   "cell_type": "code",
   "execution_count": 70,
   "metadata": {
    "deletable": false,
    "editable": false,
    "nbgrader": {
     "cell_type": "code",
     "checksum": "56de7fade9f0879e4a2ae083cf82904f",
     "grade": false,
     "grade_id": "cell-3075439fb567ccc0",
     "locked": true,
     "schema_version": 3,
     "solution": false,
     "task": false
    }
   },
   "outputs": [
    {
     "data": {
      "image/png": "[encoded data removed]",
      "text/plain": [
       "<Figure size 432x288 with 1 Axes>"
      ]
     },
     "metadata": {
      "needs_background": "light"
     },
     "output_type": "display_data"
    }
   ],
   "source": [
    "b = binom(N,0.5) #N=observations of inequality, p=prob of one coin being better, which is 0.5 according to your H0\n",
    "plt.plot(b.pmf(range(N+1)), '--o',label = 'Probability density')\n",
    "plt.plot(b.cdf(range(N+1)), '--o',label = 'Cumulative distribution')\n",
    "plt.legend()\n",
    "plt.xlabel('Number of times one coin is better than the other')\n",
    "plt.ylabel('Probability')\n",
    "plt.title('Distribution according to H0')\n",
    "plt.show()"
   ]
  },
  {
   "cell_type": "markdown",
   "metadata": {
    "deletable": false,
    "editable": false,
    "nbgrader": {
     "cell_type": "markdown",
     "checksum": "12ca3b2b6c45b20ea990364965fda278",
     "grade": false,
     "grade_id": "cell-da00a5bbc5a7f1ae",
     "locked": true,
     "schema_version": 3,
     "solution": false,
     "task": false
    }
   },
   "source": [
    "(Of course this is a discrete probability function, so you're not interested in values between integers.)\n",
    "\n",
    "As you can see, according to *zero_hypothesis*, 7 and 8 are the most likely values for both N_l and N_r. But this is not what you observed in your data. To conclude that *H0* is false, you need to show that your outcome is unlikely under the assumption that *H0* is true: the values you observed are so extreme that these values or more extreme values occur less than 5% of the time (*p-value < 0.05*). So how unlikely is it that one coin is better 12 times or more, and the other is better 3 times or less?\n",
    "\n",
    "It's the sum of the values of the probability density function (pdf or pmf in the python doc) at  0,1,2 and 3, plus the sum of the values of the pdf at 12,13,14 and 15. \n",
    "\n",
    "This is equal to the value of the cumulative distribution function (cdf) at 3, plus 1 minus the value of cdf at 11 (since `1-cdf(11)` represents the probability of observing 12 or bigger)."
   ]
  },
  {
   "cell_type": "code",
   "execution_count": null,
   "metadata": {
    "deletable": false,
    "editable": false,
    "nbgrader": {
     "cell_type": "code",
     "checksum": "e4127d9729505165a69769fec57c1a78",
     "grade": false,
     "grade_id": "cell-29b8a33caffbafe8",
     "locked": true,
     "schema_version": 3,
     "solution": false,
     "task": false
    }
   },
   "outputs": [],
   "source": [
    "p_value = b.cdf(min(N_r,N_l)) + (1-b.cdf(max(N_r,N_l)-1))\n",
    "print('The p-value is {:.3f}'.format(p_value))"
   ]
  },
  {
   "cell_type": "markdown",
   "metadata": {
    "deletable": false,
    "editable": false,
    "nbgrader": {
     "cell_type": "markdown",
     "checksum": "b187042f96b035cddc9a9292dfd1b8ed",
     "grade": false,
     "grade_id": "cell-3cbf8c3dca760fdf",
     "locked": true,
     "schema_version": 3,
     "solution": false,
     "task": false
    }
   },
   "source": [
    "So your observations are very unlikely if *zero_hypothesis* is right. By statistical theory, you can now say that you have significant reason to reject their opinion. Now the hardest part of statistics: convincing your non-scientist friends."
   ]
  }
 ],
 "metadata": {
  "anaconda-cloud": {},
  "kernelspec": {
   "display_name": "Python 3 (ipykernel)",
   "language": "python",
   "name": "python3"
  },
  "language_info": {
   "codemirror_mode": {
    "name": "ipython",
    "version": 3
   },
   "file_extension": ".py",
   "mimetype": "text/x-python",
   "name": "python",
   "nbconvert_exporter": "python",
   "pygments_lexer": "ipython3",
   "version": "3.8.8"
  },
  "varInspector": {
   "cols": {
    "lenName": 16,
    "lenType": 16,
    "lenVar": 40
   },
   "kernels_config": {
    "python": {
     "delete_cmd_postfix": "",
     "delete_cmd_prefix": "del ",
     "library": "var_list.py",
     "varRefreshCmd": "print(var_dic_list())"
    },
    "r": {
     "delete_cmd_postfix": ") ",
     "delete_cmd_prefix": "rm(",
     "library": "var_list.r",
     "varRefreshCmd": "cat(var_dic_list()) "
    }
   },
   "position": {
    "height": "462.85px",
    "left": "1955.5px",
    "right": "20px",
    "top": "120px",
    "width": "371.167px"
   },
   "types_to_exclude": [
    "module",
    "function",
    "builtin_function_or_method",
    "instance",
    "_Feature"
   ],
   "window_display": false
  }
 },
 "nbformat": 4,
 "nbformat_minor": 1
}
