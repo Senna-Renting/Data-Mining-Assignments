{
 "cells": [
  {
   "cell_type": "markdown",
   "metadata": {},
   "source": [
    "Before you turn this problem in, make sure everything runs as expected. First, **restart the kernel** (in the menubar, select Kernel$\\rightarrow$Restart) and then **run all cells** (in the menubar, select Cell$\\rightarrow$Run All).\n",
    "\n",
    "Make sure you fill in any place that says `YOUR CODE HERE` or \"YOUR ANSWER HERE\", as well as your name and collaborators below:"
   ]
  },
  {
   "cell_type": "code",
   "execution_count": 1,
   "metadata": {},
   "outputs": [],
   "source": [
    "NAME = \"Senna Renting\"\n",
    "STUDENT_NUMBER = \"s1067489\"\n",
    "COLLABORATOR_NAME = \"\"\n",
    "COLLABORATOR_STUDENT_NUMBER = \"\""
   ]
  },
  {
   "cell_type": "markdown",
   "metadata": {},
   "source": [
    "---"
   ]
  },
  {
   "cell_type": "markdown",
   "metadata": {},
   "source": [
    "## **Important:** When handing in your homework:\n",
    "+ Hand in the notebook (and nothing else) **named as follows**: StudentName1_snumber_StudentName2_snumber.ipynb\n",
    "+ Provide clear and complete answers to the questions below under a separate header (not hidden somewhere in your source code), and make sure to explain your answers / motivate your choices. Add Markdown cells where necessary.\n",
    "+ Source code, output graphs, derivations, etc., should be included in the notebook.\n",
    "+ Hand-in: upload to Brightspace.\n",
    "+ Include name, student number, assignment (especially in filenames)!\n",
    "+ When working in pairs only one of you should upload the assignment, and report the name of your partner in your filename.\n",
    "+ Use the Brightspace discussion board or email the student assistants for questions on how to complete the exercises.\n",
    "+ If you find mistakes/have suggestions/would like to complain about the assigment material itself, please email me [Roel] at `Roel.Bouman@ru.nl`\n",
    "+ Do not remove any cells in the notebook, else this might break the auto-grading system. **An invalid notebook will mean a severe reduction in your grade!**\n",
    "+ Many online collaboration platforms remove metadata from notebooks, which breaks the auto-grading system. Again, **An invalid notebook will mean a severe reduction in your grade!**. Should you wish to use these platforms, copy the answers from the online notebook to one running on your own machine with Anaconda, and then execute all cells.\n",
    "+ Only type your answers in those places where they are asked.\n",
    "+ Remove any \"raise NotImplementedError()\" statements in the cells you answered."
   ]
  },
  {
   "cell_type": "markdown",
   "metadata": {
    "deletable": false,
    "editable": false,
    "nbgrader": {
     "cell_type": "markdown",
     "checksum": "7e2a47b0ae102e1bdb31ba17cf2d8912",
     "grade": false,
     "grade_id": "cell-9e757036a2917269",
     "locked": true,
     "schema_version": 3,
     "solution": false,
     "task": false
    }
   },
   "source": [
    "# Assignment 5: Association mining\n",
    "\n",
    "## Objective of this assignment\n",
    "The overall objective is to understand how frequent itemsets can be extracted by\n",
    "the Apriori algorithm and be able to calculate and interpret association rules in terms of support and confidence.\n",
    "\n",
    "\n",
    "## Advised Reading and Exercise Material\n",
    "**The following reading material is recommended:**\n",
    "\n",
    "- Pang-Ning Tan, Michael Steinbach, and Vipin Kumar, *Introduction to Data Mining*, section 6.\n",
    "\n",
    "\n",
    "## Additional Tools\n",
    "For this exercise you will need to load the provided *apriorimining.py* script. \n",
    "\n",
    "\n",
    "##  5.1 Association mining for course data \n",
    "We will use the Apriori algorithm to automatically mine for associations. The Apriori algorithm is an adapted version of the script found here: https://github.com/nalinaksh/Association-Rule-Mining-Python\n",
    "\n",
    "Check out the script and doc and check if you understand how the association rules are computed. \n",
    "\n"
   ]
  },
  {
   "cell_type": "markdown",
   "metadata": {
    "deletable": false,
    "editable": false,
    "nbgrader": {
     "cell_type": "markdown",
     "checksum": "bdb3ac5bf2399a8c37fe70dc26f0cdf5",
     "grade": false,
     "grade_id": "cell-0dad9fbbce66f736",
     "locked": true,
     "schema_version": 3,
     "solution": false,
     "task": false
    }
   },
   "source": [
    "\n",
    "#### 5.1.1\n",
    "\n",
    "(0.25 points) Look at the data file `data/courses.txt` by **using Python**. The data is represented in Table 1. Inspect the file `data/courses.txt` and make sure you understand how the data in Table 1 is stored in the text file. Explain how the table is a representation of the text file. What information that we would need for complete reconstruction of the table is missing from the text file?\n",
    "\n",
    "##### Table 1\n",
    "|#  |   History |Math| Biology| Spanish | Economics| Physics | Chemistry | English  |  \n",
    "| :-------------: |:-------------:| :-----------:| :----------:| :------------:|:-------------:| :------------:|  :-------------: | :-------------: |\n",
    "|student 1 | 0| 1 | 0 | 0 | 1| 1 |1 |1   \n",
    "|student 2 | 1| 1 | 1 | 0 | 0| 1 |1 |1   \n",
    "|student 3 | 0| 1 | 0 | 1 | 0| 1 |0 |1   \n",
    "|student 4 | 0| 0 | 1 | 0 | 0| 1 |1 |0   \n",
    "|student 5 | 0| 1 | 0 | 0 | 0| 1 |1 |0        \n",
    "|student 6 | 0| 1 | 1 | 0 | 0| 1 |1 |1   \n"
   ]
  },
  {
   "cell_type": "code",
   "execution_count": 2,
   "metadata": {
    "deletable": false,
    "nbgrader": {
     "cell_type": "code",
     "checksum": "a43499c1db7b363ac36384c8e8a89b8c",
     "grade": true,
     "grade_id": "cell-965614a7de3fe34e",
     "locked": false,
     "points": 0,
     "schema_version": 3,
     "solution": true,
     "task": false
    }
   },
   "outputs": [
    {
     "name": "stdout",
     "output_type": "stream",
     "text": [
      "Text file courses.txt:\n",
      "2,5,6,7,8\n",
      "1,2,3,6,7,8\n",
      "2,4,6,8\n",
      "3,6,7\n",
      "2,6,7\n",
      "2,3,6,7,8\n",
      "\n"
     ]
    }
   ],
   "source": [
    "##Answer to question 5.1.1\n",
    "filename = \"./data/courses.txt\"\n",
    "with open(filename, \"r\") as f:\n",
    "    print(\"Text file courses.txt:\")\n",
    "    print(f.read())"
   ]
  },
  {
   "cell_type": "markdown",
   "metadata": {
    "deletable": false,
    "nbgrader": {
     "cell_type": "markdown",
     "checksum": "66fee4e6f7ffa2b802095395a725c06f",
     "grade": true,
     "grade_id": "cell-5cd66ce18ced94f7",
     "locked": false,
     "points": 25,
     "schema_version": 3,
     "solution": true,
     "task": false
    }
   },
   "source": [
    "**Answer:** The column names are missing in the text file. Additionally the attributes that contain zeroes are left out in the text file. So in order to understand the data from the text file, we would either need a specific line with column names, or we need a README that explains how the text file is structured in terms of it's attributes."
   ]
  },
  {
   "cell_type": "markdown",
   "metadata": {
    "deletable": false,
    "editable": false,
    "nbgrader": {
     "cell_type": "markdown",
     "checksum": "9825aa69023ee6d3d9e1359c68a8bc91",
     "grade": false,
     "grade_id": "cell-3ee519b8f858d234",
     "locked": true,
     "schema_version": 3,
     "solution": false,
     "task": false
    }
   },
   "source": [
    "#### 5.1.2\n",
    "(0.75 points) We will analyze the data in Table 1  using the function `apriorimining.generate_association_rules()` from the toolbox. This function takes the a string dictating the file path as input. Analyze the data with $ minsupport  \\geq 80 \\% $ and $ minconfidence \\geq 100 \\%$. (input as fractions into the function)\n",
    "What are the generated association rules? What kind of conclusions can you make based on these association rules about the subjects that students took? \n",
    "You can optionally provide a dictionary `names`, translating the integers in the file to the names in the table, to the `generate_association_rules` function. \n"
   ]
  },
  {
   "cell_type": "code",
   "execution_count": 3,
   "metadata": {
    "deletable": false,
    "nbgrader": {
     "cell_type": "code",
     "checksum": "aafa1a384d38d2467d3bbd86ff45ee41",
     "grade": true,
     "grade_id": "cell-bedf69f7ed7721f3",
     "locked": false,
     "points": 0,
     "schema_version": 3,
     "solution": true,
     "task": false
    }
   },
   "outputs": [
    {
     "name": "stdout",
     "output_type": "stream",
     "text": [
      "---------------TOP 10 FREQUENT 1-ITEMSET-------------------------\n",
      "set= { 6 },  sup= 1.0\n",
      "set= { 2 },  sup= 0.83\n",
      "set= { 7 },  sup= 0.83\n",
      "-----------------------------------------------------------------\n",
      "-------TOP 10 (or less) FREQUENT 2-ITEMSET------------------------\n",
      "set= { 2, 6 },  sup= 0.83\n",
      "set= { 6, 7 },  sup= 0.83\n",
      "------------------------------------------------------------------\n",
      "---------------------ASSOCIATION RULES------------------\n",
      "--------------------------------------------------------\n",
      "Rule #1: {  } ==> { 6 }, sup= 1.00, conf= 1.00\n",
      "\n",
      "Rule #2: { 2 } ==> { 6 }, sup= 0.83, conf= 1.00\n",
      "\n",
      "Rule #3: { 7 } ==> { 6 }, sup= 0.83, conf= 1.00\n",
      "--------------------------------------------------------\n"
     ]
    }
   ],
   "source": [
    "##Answer to question 5.1.2\n",
    "# YOUR CODE HERE\n",
    "from toolbox import apriorimining\n",
    "apriorimining.generate_association_rules(filename, 0.8, 1.0)"
   ]
  },
  {
   "cell_type": "markdown",
   "metadata": {
    "deletable": false,
    "nbgrader": {
     "cell_type": "markdown",
     "checksum": "ad15d8b3c2d32ab7dc9489a182c4cf8d",
     "grade": true,
     "grade_id": "cell-88cb0896ed074bba",
     "locked": false,
     "points": 75,
     "schema_version": 3,
     "solution": true,
     "task": false
    }
   },
   "source": [
    "**Answers:** All students in this dataset took the physics course, 5 out of 6 took the math course and again 5 out of 6 took the chemistry course. Furthermore when looking at the association rules that were found we see that people who took the math course were very likely (83%) to also take the physics course. In addition to that people who took the chemistry course were also very likely to also take the physics course (83%)"
   ]
  },
  {
   "cell_type": "markdown",
   "metadata": {
    "deletable": false,
    "editable": false,
    "nbgrader": {
     "cell_type": "markdown",
     "checksum": "b82ac706bd39a15d3363c4a6b90888d9",
     "grade": false,
     "grade_id": "cell-ffd427a023e0db49",
     "locked": true,
     "schema_version": 3,
     "solution": false,
     "task": false
    }
   },
   "source": [
    "##  5.2 Association mining for MovieLens data \n",
    "  \n",
    "  \n",
    "In this part of the exercise we consider a Market Basket data set containing 943 users purchases of 1682 movies. A total of 100,000 movies\n",
    "have been purchased.The data set is called MovieLens100K and is provided by http://www.grouplens.org/node/73, see also the readme `MovieLensData.txt` in the data folder. The data currently considered is not the original data but modified for the apriori algorithm.\n",
    "\n",
    "#### 5.2.1\n",
    "(0.25 points) The MovieLens data is stored in the files `data/MovieLensData.txt` and `data/u.item`. Inspect the files **using Python** to see how the data is stored. How do these files relate? \n",
    "  "
   ]
  },
  {
   "cell_type": "code",
   "execution_count": 4,
   "metadata": {
    "deletable": false,
    "nbgrader": {
     "cell_type": "code",
     "checksum": "1930e184e84645274c9f4c489166d0db",
     "grade": true,
     "grade_id": "cell-5d628389694de412",
     "locked": false,
     "points": 0,
     "schema_version": 3,
     "solution": true,
     "task": false
    }
   },
   "outputs": [
    {
     "name": "stdout",
     "output_type": "stream",
     "text": [
      "Data from MovieLensData.txt:\n",
      "1,2,3,4,5,6,7,8,9,10,11,12,13,14,15,16,17,18,19,20,21,22,23,24,25,26,27,28,29,30,31,32,33,34,35,36,37,38,39,40,41,42,43,44,45,46,47,48,49,50,51,52,53,54,55,56,57,58,59,60,61,62,63,64,65,66,67,68,69,70,71,72,73,74,75,76,77,78,79,80,81,82,83,84,85,86,87,88,89,90,91,92,93,94,95,96,97,98,99,100,101,102,103,104,105,106,107,108,109,110,111,112,113,114,115,116,117,118,119,120,121,122,123,124,125,126,127,128,129,130,131,132,133,134,135,136,137,138,139,140,141,142,143,144,145,146,147,148,149,150,151,152,153,154,155,156,157,158,159,160,161,162,163,164,165,166,167,168,169,170,171,172,173,174,175,176,177,178,179,180,181,182,183,184,185,186,187,188,189,190,191,192,193,194,195,196,197,198,199,200,201,202,203,204,205,206,207,208,209,210,211,212,213,214,215,216,217,218,219,220,221,222,223,224,225,226,227,228,229,230,231,232,233,234,235,236,237,238,239,240,241,242,243,244,245,246,247,248,249,250,251,252,253,254,255,256,257,258,259,260,261,262,263,264,265,266,267,268,269,270,271,272\n",
      "\n",
      "1,10,13,14,19,25,50,100,111,127,237,242,251,255,257,258,269,272,273,274,275,276,277,278,279,280,281,282,283,284,285,286,287,288,289,290,291,292,293,294,295,296,297,298,299,300,301,302,303,304,305,306,307,308,309,310,311,312,313,314,315,316\n",
      "\n",
      "181,245,258,260,264,268,271,272,288,294,299,300,302,303,307,317,318,319,320,321,322,323,324,325,326,327,328,329,330,331,332,333,334,335,336,337,338,339,340,341,342,343,344,345,346,347,348,349,350,351,352,353,354,355\n",
      "\n",
      "11,50,210,258,260,264,271,288,294,300,301,303,324,327,328,329,354,356,357,358,359,360,361,362\n",
      "\n",
      "1,2,17,21,24,25,29,40,42,50,62,63,66,69,70,79,80,89,90,94,95,98,99,100,101,102,105,109,110,121,135,139,143,144,145,151,153,154,162,163,167,168,169,172,173,174,176,181,183,185,186,189,194,200,204,208,209,210,211,214,216,219,222,225,226,227,228,229,230,231,233,234,235,239,241,243,250,257,259,267,363,364,365,366,367,368,369,370,371,372,373,374,375,376,377,378,379,380,381,382,383,384,385,386,387,388,389,390,391,392,393,394,395,396,397,398,399,400,401,402,403,404,405,406,407,408,409,410,411,412,413,414,415,416,417,418,419,420,421,422,423,424,425,426,427,428,429,430,431,432,433,434,435,436,437,438,439,440,441,442,443,444,445,446,447,448,449,450,451,452,453,454,455,456,457\n",
      "\n",
      "1,7,8,9,12,13,14,15,19,21,22,23,28,32,47,50,56,59,64,69,70,71,79,81,86,87,89,95,98,100,111,117,124,125,127,131,132,133,134,135,136,137,143,151,153,154,156,165,166,168,169,170,173,174,175,177,178,180,182,183,185,186,187,188,189,191,192,193,194,195,197,199,200,202,203,204,205,208,209,211,213,216,221,223,237,238,242,246,248,257,258,259,261,268,269,272,274,275,276,284,285,286,293,294,297,298,301,302,303,304,306,308,309,310,317,318,321,340,357,367,405,408,410,419,423,425,427,432,435,458,459,460,461,462,463,464,465,466,467,468,469,470,471,472,473,474,475,476,477,478,479,480,481,482,483,484,485,486,487,488,489,490,491,492,493,494,495,496,497,498,499,500,501,502,503,504,505,506,507,508,509,510,511,512,513,514,515,516,517,518,519,520,521,522,523,524,525,526,527,528,529,530,531,532,533,534,535,536,537,538,539\n",
      "\n",
      "4,7,8,9,10,11,12,22,23,25,27,28,29,31,32,39,44,47,50,51,52,53,54,56,62,64,68,69,70,71,72,73,77,78,79,80,81,82,86,89,90,91,92,93,96,97,98,99,100,101,106,118,121,125,126,127,131,132,133,134,135,136,139,140,141,142,143,144,145,151,152,153,154,156,157,161,162,163,164,166,168,171,172,173,174,175,176,177,178,179,180,181,182,183,185,186,187,188,190,191,192,193,194,195,196,197,198,199,200,201,202,203,204,205,207,208,210,211,212,213,214,215,216,217,219,223,226,227,228,229,230,231,232,234,237,238,241,258,259,260,264,265,266,268,269,273,275,281,285,286,288,294,300,307,309,317,318,324,334,341,356,357,365,367,378,379,380,382,384,385,386,387,389,391,393,396,399,401,402,403,404,405,415,416,417,418,419,420,421,423,427,428,429,430,431,432,433,434,435,436,440,441,443,444,446,447,448,449,450,451,452,455,461,463,465,470,471,472,474,479,480,481,482,483,484,485,487,488,489,491,492,495,496,497,498,499,501,502,503,504,505,506,507,509,510,511,513,514,515,519,520,521,523,526,527,528,529,530,537,540,541,542,543,544,545,546,547,548,549,550,551,552,553,554,555,556,557,558,559,560,561,562,563,564,565,566,567,568,569,570,571,572,573,574,575,576,577,578,579,580,581,582,583,584,585,586,587,588,589,590,591,592,593,594,595,596,597,598,599,600,601,602,603,604,605,606,607,608,609,610,611,612,613,614,615,616,617,618,619,620,621,622,623,624,625,626,627,628,629,630,631,632,633,634,635,636,637,638,639,640,641,642,643,644,645,646,647,648,649,650,651,652,653,654,655,656,657,658,659,660,661,662,663,664,665,666,667,668,669,670,671,672,673,674,675,676,677,678,679,680,681,682,683\n",
      "\n",
      "7,11,22,50,55,56,79,82,89,96,127,144,172,174,176,177,181,182,183,187,188,190,195,210,222,227,228,229,233,241,243,258,259,260,273,294,301,336,338,341,358,385,403,431,435,457,510,511,518,550,566,568,651,684,685,686,687,688,689\n",
      "\n",
      "6,7,50,201,242,276,286,294,298,340,371,385,402,479,483,487,507,521,527,615,690,691\n",
      "\n",
      "1,4,7,9,11,12,13,16,22,23,32,33,40,48,50,56,59,60,64,69,70,82,85,93,98,99,100,116,124,127,129,132,133,134,135,137,144,153,155,156,157,160,161,162,164,168,170,174,175,176,178,179,180,182,183,185,186,191,192,194,195,197,198,199,200,203,205,211,216,218,221,223,230,234,238,245,269,273,274,275,276,283,285,286,289,294,302,319,321,333,334,340,357,367,371,385,404,414,418,420,430,432,435,447,461,462,463,467,470,474,475,478,479,480,482,483,484,486,488,489,493,495,496,497,498,499,502,504,505,509,510,511,513,518,519,521,525,527,529,530,531,558,582,588,589,602,603,604,606,610,611,615,617,629,651,652,654,655,656,657,663,664,686,692,693,694,695,696,697,698,699,700,701,702,703,704,705,706,707,708,709,710,711,712\n",
      "\n",
      "Data from u.item:\n",
      "1|Toy Story (1995)|01-Jan-1995||http://us.imdb.com/M/title-exact?Toy%20Story%20(1995)|0|0|0|1|1|1|0|0|0|0|0|0|0|0|0|0|0|0|0\n",
      "2|GoldenEye (1995)|01-Jan-1995||http://us.imdb.com/M/title-exact?GoldenEye%20(1995)|0|1|1|0|0|0|0|0|0|0|0|0|0|0|0|0|1|0|0\n",
      "3|Four Rooms (1995)|01-Jan-1995||http://us.imdb.com/M/title-exact?Four%20Rooms%20(1995)|0|0|0|0|0|0|0|0|0|0|0|0|0|0|0|0|1|0|0\n",
      "4|Get Shorty (1995)|01-Jan-1995||http://us.imdb.com/M/title-exact?Get%20Shorty%20(1995)|0|1|0|0|0|1|0|0|1|0|0|0|0|0|0|0|0|0|0\n",
      "5|Copycat (1995)|01-Jan-1995||http://us.imdb.com/M/title-exact?Copycat%20(1995)|0|0|0|0|0|0|1|0|1|0|0|0|0|0|0|0|1|0|0\n",
      "6|Shanghai Triad (Yao a yao yao dao waipo qiao) (1995)|01-Jan-1995||http://us.imdb.com/Title?Yao+a+yao+yao+dao+waipo+qiao+(1995)|0|0|0|0|0|0|0|0|1|0|0|0|0|0|0|0|0|0|0\n",
      "7|Twelve Monkeys (1995)|01-Jan-1995||http://us.imdb.com/M/title-exact?Twelve%20Monkeys%20(1995)|0|0|0|0|0|0|0|0|1|0|0|0|0|0|0|1|0|0|0\n",
      "8|Babe (1995)|01-Jan-1995||http://us.imdb.com/M/title-exact?Babe%20(1995)|0|0|0|0|1|1|0|0|1|0|0|0|0|0|0|0|0|0|0\n",
      "9|Dead Man Walking (1995)|01-Jan-1995||http://us.imdb.com/M/title-exact?Dead%20Man%20Walking%20(1995)|0|0|0|0|0|0|0|0|1|0|0|0|0|0|0|0|0|0|0\n",
      "10|Richard III (1995)|22-Jan-1996||http://us.imdb.com/M/title-exact?Richard%20III%20(1995)|0|0|0|0|0|0|0|0|1|0|0|0|0|0|0|0|0|1|0\n",
      "\n",
      "Length of MovieLensData.txt file vs u.item file respectively: \n",
      "943 vs 1682\n",
      "Try to find last index of u.item file data object in MovieLensData.txt\n",
      "Last index u.item: 1682\n",
      "Is the last index(1682) in movieLensData.txt?: True\n",
      "But is there more indices than the u.item file?: False\n"
     ]
    }
   ],
   "source": [
    "##Answer to question 5.2.1\n",
    "# YOUR CODE HERE\n",
    "line_amount = 10\n",
    "with open(\"./data/MovieLensData.txt\", \"r\") as f:\n",
    "    movieData1 = f.readlines()\n",
    "    movieData1h = \"\\n\".join(movieData1[0:line_amount])\n",
    "with open(\"./data/u.item\", \"r\") as f:\n",
    "    movieData2 = f.readlines()\n",
    "    movieData2h = \"\".join(movieData2[0:line_amount])\n",
    "print(\"Data from MovieLensData.txt:\")\n",
    "print(movieData1h)\n",
    "print(\"Data from u.item:\")\n",
    "print(movieData2h)\n",
    "print(\"Length of MovieLensData.txt file vs u.item file respectively: \")\n",
    "print(f\"{len(movieData1)} vs {len(movieData2)}\")\n",
    "print(\"Try to find last index of u.item file data object in MovieLensData.txt\")\n",
    "last_index = int(movieData2[-1].split(\"|\")[0])\n",
    "print(f\"Last index u.item: {last_index}\")\n",
    "in_movielens = str(last_index) in (\"\".join(movieData1))\n",
    "print(f\"Is the last index({last_index}) in movieLensData.txt?: {in_movielens}\")\n",
    "more_in_lens = str(last_index+1) in (\"\".join(movieData1))\n",
    "print(f\"But is there more indices than the u.item file?: {more_in_lens}\")"
   ]
  },
  {
   "cell_type": "markdown",
   "metadata": {
    "deletable": false,
    "nbgrader": {
     "cell_type": "markdown",
     "checksum": "9c3f2c707e44ede432380b5107cd672f",
     "grade": true,
     "grade_id": "cell-efdb7712e7785341",
     "locked": false,
     "points": 25,
     "schema_version": 3,
     "solution": true,
     "task": false
    }
   },
   "source": [
    "**Anwer:** To be honest I can't immediately see, how the two datafiles are related. I first thought each line in the MovieLensData.txt file represented a data object just as the u.item file has, but after checking the amount of lines for both files I quickly found that this couldn't be the case. What did seem possible to me was that each line was an attribute, and that it contained the indices of the u.item if such an attribute was related to any of the data objects in u.item, I checked for the last index of u.item in the MovieLensData.txt file and found this to be the case."
   ]
  },
  {
   "cell_type": "markdown",
   "metadata": {
    "deletable": false,
    "editable": false,
    "nbgrader": {
     "cell_type": "markdown",
     "checksum": "0101f0b2131fe626e97100955b4e1445",
     "grade": false,
     "grade_id": "cell-346d03787206834b",
     "locked": true,
     "schema_version": 3,
     "solution": false,
     "task": false
    }
   },
   "source": [
    "#### 5.2.2 \n",
    "(0.75 point) Find association rules using the function below with $ minsupport  \\geq 30 \\% $ and $ minconfidence \\geq 80 \\%$. You can use the `max_rules` argument to set a maximum number of potential rules to print. Use the `movie_names` dict as the optional `names` argument in `generate_association_rules` to interpret the results. What are the associations with strongest confidence? Do these associations make sense? Explain."
   ]
  },
  {
   "cell_type": "code",
   "execution_count": 5,
   "metadata": {
    "deletable": false,
    "nbgrader": {
     "cell_type": "code",
     "checksum": "2fb7b3f2376493a6730da84bb582b226",
     "grade": true,
     "grade_id": "cell-e132e4a0a0850259",
     "locked": false,
     "points": 0,
     "schema_version": 3,
     "solution": true,
     "task": false
    }
   },
   "outputs": [
    {
     "name": "stdout",
     "output_type": "stream",
     "text": [
      "---------------TOP 10 FREQUENT 1-ITEMSET-------------------------\n",
      "set= { Star Wars (1977) },  sup= 0.62\n",
      "set= { Fargo (1996) },  sup= 0.54\n",
      "set= { Return of the Jedi (1983) },  sup= 0.54\n",
      "set= { Contact (1997) },  sup= 0.54\n",
      "set= { English Patient, The (1996) },  sup= 0.51\n",
      "set= { Scream (1996) },  sup= 0.51\n",
      "set= { Liar Liar (1997) },  sup= 0.51\n",
      "set= { Toy Story (1995) },  sup= 0.48\n",
      "set= { Air Force One (1997) },  sup= 0.46\n",
      "set= { Independence Day (ID4) (1996) },  sup= 0.45\n",
      "-----------------------------------------------------------------\n",
      "-------TOP 10 (or less) FREQUENT 2-ITEMSET------------------------\n",
      "set= { Return of the Jedi (1983), Star Wars (1977) },  sup= 0.51\n",
      "set= { Fargo (1996), Star Wars (1977) },  sup= 0.42\n",
      "set= { Star Wars (1977), Toy Story (1995) },  sup= 0.4\n",
      "set= { Raiders of the Lost Ark (1981), Star Wars (1977) },  sup= 0.4\n",
      "set= { Independence Day (ID4) (1996), Star Wars (1977) },  sup= 0.38\n",
      "set= { Godfather, The (1972), Star Wars (1977) },  sup= 0.38\n",
      "set= { Fargo (1996), Return of the Jedi (1983) },  sup= 0.37\n",
      "set= { Empire Strikes Back, The (1980), Star Wars (1977) },  sup= 0.37\n",
      "set= { Silence of the Lambs, The (1991), Star Wars (1977) },  sup= 0.36\n",
      "set= { Independence Day (ID4) (1996), Return of the Jedi (1983) },  sup= 0.36\n",
      "------------------------------------------------------------------\n",
      "-------TOP 10 (or less) FREQUENT 3-ITEMSET------------------------\n",
      "set= { Raiders of the Lost Ark (1981), Return of the Jedi (1983), Star Wars (1977) },  sup= 0.36\n",
      "set= { Fargo (1996), Return of the Jedi (1983), Star Wars (1977) },  sup= 0.35\n",
      "set= { Independence Day (ID4) (1996), Return of the Jedi (1983), Star Wars (1977) },  sup= 0.35\n",
      "set= { Return of the Jedi (1983), Star Wars (1977), Toy Story (1995) },  sup= 0.35\n",
      "set= { Empire Strikes Back, The (1980), Raiders of the Lost Ark (1981), Star Wars (1977) },  sup= 0.34\n",
      "set= { Empire Strikes Back, The (1980), Return of the Jedi (1983), Star Wars (1977) },  sup= 0.33\n",
      "set= { Godfather, The (1972), Return of the Jedi (1983), Star Wars (1977) },  sup= 0.32\n",
      "set= { Pulp Fiction (1994), Raiders of the Lost Ark (1981), Star Wars (1977) },  sup= 0.31\n",
      "set= { Empire Strikes Back, The (1980), Raiders of the Lost Ark (1981), Return of the Jedi (1983) },  sup= 0.31\n",
      "set= { Raiders of the Lost Ark (1981), Silence of the Lambs, The (1991), Star Wars (1977) },  sup= 0.31\n",
      "------------------------------------------------------------------\n",
      "-------TOP 10 (or less) FREQUENT 4-ITEMSET------------------------\n",
      "set= { Empire Strikes Back, The (1980), Raiders of the Lost Ark (1981), Return of the Jedi (1983), Star Wars (1977) },  sup= 0.31\n",
      "------------------------------------------------------------------\n",
      "---------------------ASSOCIATION RULES------------------\n",
      "--------------------------------------------------------\n",
      "Rule #73: { Empire Strikes Back, The (1980), Raiders of the Lost Ark (1981), Return of the Jedi (1983) } ==> { Star Wars (1977) }, sup= 0.31, conf= 1.00\n",
      "\n",
      "Rule #50: { Empire Strikes Back, The (1980), Return of the Jedi (1983) } ==> { Star Wars (1977) }, sup= 0.33, conf= 0.99\n",
      "\n",
      "Rule #32: { Pulp Fiction (1994), Return of the Jedi (1983) } ==> { Star Wars (1977) }, sup= 0.30, conf= 0.99\n",
      "\n",
      "Rule #55: { Raiders of the Lost Ark (1981), Return of the Jedi (1983) } ==> { Star Wars (1977) }, sup= 0.36, conf= 0.99\n",
      "\n",
      "Rule #58: { Return of the Jedi (1983), Toy Story (1995) } ==> { Star Wars (1977) }, sup= 0.35, conf= 0.98\n",
      "\n",
      "Rule #61: { Return of the Jedi (1983), Silence of the Lambs, The (1991) } ==> { Star Wars (1977) }, sup= 0.31, conf= 0.98\n",
      "\n",
      "Rule #60: { Return of the Jedi (1983), Twelve Monkeys (1995) } ==> { Star Wars (1977) }, sup= 0.31, conf= 0.98\n",
      "\n",
      "Rule #39: { Godfather, The (1972), Return of the Jedi (1983) } ==> { Star Wars (1977) }, sup= 0.32, conf= 0.97\n",
      "\n",
      "Rule #63: { Return of the Jedi (1983), Star Trek: First Contact (1996) } ==> { Star Wars (1977) }, sup= 0.31, conf= 0.97\n",
      "\n",
      "Rule #43: { Empire Strikes Back, The (1980), Raiders of the Lost Ark (1981) } ==> { Star Wars (1977) }, sup= 0.34, conf= 0.97\n",
      "\n",
      "Rule #38: { Independence Day (ID4) (1996), Return of the Jedi (1983) } ==> { Star Wars (1977) }, sup= 0.35, conf= 0.96\n",
      "\n",
      "Rule #65: { Contact (1997), Return of the Jedi (1983) } ==> { Star Wars (1977) }, sup= 0.30, conf= 0.96\n",
      "\n",
      "Rule #35: { Fargo (1996), Return of the Jedi (1983) } ==> { Star Wars (1977) }, sup= 0.35, conf= 0.95\n",
      "\n",
      "Rule #19: { Return of the Jedi (1983) } ==> { Star Wars (1977) }, sup= 0.51, conf= 0.95\n",
      "\n",
      "Rule #13: { Empire Strikes Back, The (1980) } ==> { Star Wars (1977) }, sup= 0.37, conf= 0.94\n",
      "\n",
      "Rule #53: { Raiders of the Lost Ark (1981), Silence of the Lambs, The (1991) } ==> { Star Wars (1977) }, sup= 0.31, conf= 0.94\n",
      "\n",
      "Rule #75: { Empire Strikes Back, The (1980), Return of the Jedi (1983), Star Wars (1977) } ==> { Raiders of the Lost Ark (1981) }, sup= 0.31, conf= 0.93\n",
      "\n",
      "Rule #46: { Empire Strikes Back, The (1980), Return of the Jedi (1983) } ==> { Raiders of the Lost Ark (1981) }, sup= 0.31, conf= 0.93\n",
      "\n",
      "Rule #74: { Empire Strikes Back, The (1980), Raiders of the Lost Ark (1981), Star Wars (1977) } ==> { Return of the Jedi (1983) }, sup= 0.31, conf= 0.93\n",
      "\n",
      "Rule #69: { Empire Strikes Back, The (1980), Return of the Jedi (1983) } ==> { Raiders of the Lost Ark (1981), Star Wars (1977) }, sup= 0.31, conf= 0.93\n",
      "\n",
      "Rule #30: { Pulp Fiction (1994), Raiders of the Lost Ark (1981) } ==> { Star Wars (1977) }, sup= 0.31, conf= 0.92\n",
      "\n",
      "Rule #25: { Indiana Jones and the Last Crusade (1989) } ==> { Star Wars (1977) }, sup= 0.32, conf= 0.92\n",
      "\n",
      "Rule #42: { Empire Strikes Back, The (1980), Star Wars (1977) } ==> { Raiders of the Lost Ark (1981) }, sup= 0.34, conf= 0.92\n",
      "\n",
      "Rule #64: { Star Trek: First Contact (1996), Star Wars (1977) } ==> { Return of the Jedi (1983) }, sup= 0.31, conf= 0.91\n",
      "\n",
      "Rule #51: { Empire Strikes Back, The (1980), Star Wars (1977) } ==> { Return of the Jedi (1983) }, sup= 0.33, conf= 0.91\n",
      "\n",
      "Rule #11: { Mission: Impossible (1996) } ==> { Independence Day (ID4) (1996) }, sup= 0.33, conf= 0.91\n",
      "\n",
      "Rule #17: { Raiders of the Lost Ark (1981) } ==> { Star Wars (1977) }, sup= 0.40, conf= 0.90\n",
      "\n",
      "Rule #37: { Independence Day (ID4) (1996), Star Wars (1977) } ==> { Return of the Jedi (1983) }, sup= 0.35, conf= 0.90\n",
      "\n",
      "Rule #47: { Empire Strikes Back, The (1980), Raiders of the Lost Ark (1981) } ==> { Return of the Jedi (1983) }, sup= 0.31, conf= 0.90\n",
      "\n",
      "Rule #68: { Empire Strikes Back, The (1980), Raiders of the Lost Ark (1981) } ==> { Return of the Jedi (1983), Star Wars (1977) }, sup= 0.31, conf= 0.90\n",
      "\n",
      "Rule #14: { Empire Strikes Back, The (1980) } ==> { Raiders of the Lost Ark (1981) }, sup= 0.35, conf= 0.89\n",
      "\n",
      "Rule #59: { Star Wars (1977), Twelve Monkeys (1995) } ==> { Return of the Jedi (1983) }, sup= 0.31, conf= 0.89\n",
      "\n",
      "Rule #56: { Raiders of the Lost Ark (1981), Star Wars (1977) } ==> { Return of the Jedi (1983) }, sup= 0.36, conf= 0.89\n",
      "\n",
      "Rule #4: { Forrest Gump (1994) } ==> { Star Wars (1977) }, sup= 0.30, conf= 0.88\n",
      "\n",
      "Rule #5: { Fugitive, The (1993) } ==> { Star Wars (1977) }, sup= 0.31, conf= 0.88\n",
      "\n",
      "Rule #22: { Back to the Future (1985) } ==> { Star Wars (1977) }, sup= 0.33, conf= 0.88\n",
      "\n",
      "Rule #16: { Princess Bride, The (1987) } ==> { Star Wars (1977) }, sup= 0.30, conf= 0.88\n",
      "\n",
      "Rule #31: { Pulp Fiction (1994), Star Wars (1977) } ==> { Raiders of the Lost Ark (1981) }, sup= 0.31, conf= 0.88\n",
      "\n",
      "Rule #57: { Star Wars (1977), Toy Story (1995) } ==> { Return of the Jedi (1983) }, sup= 0.35, conf= 0.87\n",
      "\n",
      "Rule #34: { Fargo (1996), Toy Story (1995) } ==> { Star Wars (1977) }, sup= 0.30, conf= 0.87\n",
      "\n",
      "Rule #26: { Indiana Jones and the Last Crusade (1989) } ==> { Raiders of the Lost Ark (1981) }, sup= 0.31, conf= 0.87\n",
      "\n",
      "Rule #72: { Raiders of the Lost Ark (1981), Return of the Jedi (1983), Star Wars (1977) } ==> { Empire Strikes Back, The (1980) }, sup= 0.31, conf= 0.87\n",
      "\n",
      "Rule #52: { Silence of the Lambs, The (1991), Star Wars (1977) } ==> { Raiders of the Lost Ark (1981) }, sup= 0.31, conf= 0.87\n",
      "\n",
      "Rule #28: { Star Trek: First Contact (1996) } ==> { Star Wars (1977) }, sup= 0.34, conf= 0.87\n",
      "\n",
      "Rule #12: { Godfather, The (1972) } ==> { Star Wars (1977) }, sup= 0.38, conf= 0.86\n",
      "\n",
      "Rule #15: { Empire Strikes Back, The (1980) } ==> { Return of the Jedi (1983) }, sup= 0.34, conf= 0.86\n",
      "\n",
      "Rule #33: { Pulp Fiction (1994), Star Wars (1977) } ==> { Return of the Jedi (1983) }, sup= 0.30, conf= 0.86\n",
      "\n",
      "Rule #62: { Silence of the Lambs, The (1991), Star Wars (1977) } ==> { Return of the Jedi (1983) }, sup= 0.31, conf= 0.86\n",
      "\n",
      "Rule #48: { Raiders of the Lost Ark (1981), Return of the Jedi (1983) } ==> { Empire Strikes Back, The (1980) }, sup= 0.31, conf= 0.86\n",
      "\n",
      "Rule #41: { Empire Strikes Back, The (1980) } ==> { Raiders of the Lost Ark (1981), Star Wars (1977) }, sup= 0.34, conf= 0.86\n",
      "\n",
      "Rule #71: { Raiders of the Lost Ark (1981), Return of the Jedi (1983) } ==> { Empire Strikes Back, The (1980), Star Wars (1977) }, sup= 0.31, conf= 0.86\n",
      "\n",
      "Rule #7: { Silence of the Lambs, The (1991) } ==> { Star Wars (1977) }, sup= 0.36, conf= 0.86\n",
      "\n",
      "Rule #49: { Empire Strikes Back, The (1980) } ==> { Return of the Jedi (1983), Star Wars (1977) }, sup= 0.33, conf= 0.86\n",
      "\n",
      "Rule #27: { Indiana Jones and the Last Crusade (1989) } ==> { Return of the Jedi (1983) }, sup= 0.30, conf= 0.85\n",
      "\n",
      "Rule #66: { Contact (1997), Star Wars (1977) } ==> { Return of the Jedi (1983) }, sup= 0.30, conf= 0.85\n",
      "\n",
      "Rule #70: { Empire Strikes Back, The (1980), Star Wars (1977) } ==> { Raiders of the Lost Ark (1981), Return of the Jedi (1983) }, sup= 0.31, conf= 0.85\n",
      "\n",
      "Rule #23: { Back to the Future (1985) } ==> { Raiders of the Lost Ark (1981) }, sup= 0.32, conf= 0.85\n",
      "\n",
      "Rule #6: { Fugitive, The (1993) } ==> { Raiders of the Lost Ark (1981) }, sup= 0.30, conf= 0.85\n",
      "\n",
      "Rule #10: { Independence Day (ID4) (1996) } ==> { Star Wars (1977) }, sup= 0.38, conf= 0.84\n",
      "\n",
      "Rule #40: { Godfather, The (1972), Star Wars (1977) } ==> { Return of the Jedi (1983) }, sup= 0.32, conf= 0.84\n",
      "\n",
      "Rule #29: { Mission: Impossible (1996) } ==> { Star Wars (1977) }, sup= 0.31, conf= 0.84\n",
      "\n",
      "Rule #1: { Toy Story (1995) } ==> { Star Wars (1977) }, sup= 0.40, conf= 0.84\n",
      "\n",
      "Rule #3: { Pulp Fiction (1994) } ==> { Star Wars (1977) }, sup= 0.35, conf= 0.84\n",
      "\n",
      "Rule #36: { Fargo (1996), Star Wars (1977) } ==> { Return of the Jedi (1983) }, sup= 0.35, conf= 0.84\n",
      "\n",
      "Rule #44: { Raiders of the Lost Ark (1981), Star Wars (1977) } ==> { Empire Strikes Back, The (1980) }, sup= 0.34, conf= 0.83\n",
      "\n",
      "Rule #2: { Twelve Monkeys (1995) } ==> { Star Wars (1977) }, sup= 0.34, conf= 0.83\n",
      "\n",
      "Rule #9: { Rock, The (1996) } ==> { Star Wars (1977) }, sup= 0.33, conf= 0.83\n",
      "\n",
      "Rule #20: { Star Wars (1977) } ==> { Return of the Jedi (1983) }, sup= 0.51, conf= 0.82\n",
      "\n",
      "Rule #24: { Back to the Future (1985) } ==> { Return of the Jedi (1983) }, sup= 0.30, conf= 0.82\n",
      "\n",
      "Rule #21: { Star Trek: First Contact (1996) } ==> { Return of the Jedi (1983) }, sup= 0.32, conf= 0.82\n",
      "\n",
      "Rule #8: { Twelve Monkeys (1995) } ==> { Fargo (1996) }, sup= 0.34, conf= 0.82\n",
      "\n",
      "Rule #18: { Raiders of the Lost Ark (1981) } ==> { Return of the Jedi (1983) }, sup= 0.36, conf= 0.81\n",
      "\n",
      "Rule #45: { Empire Strikes Back, The (1980) } ==> { Raiders of the Lost Ark (1981), Return of the Jedi (1983) }, sup= 0.31, conf= 0.80\n",
      "\n",
      "Rule #54: { Raiders of the Lost Ark (1981) } ==> { Return of the Jedi (1983), Star Wars (1977) }, sup= 0.36, conf= 0.80\n",
      "\n",
      "Rule #67: { Empire Strikes Back, The (1980) } ==> { Raiders of the Lost Ark (1981), Return of the Jedi (1983), Star Wars (1977) }, sup= 0.31, conf= 0.80\n",
      "--------------------------------------------------------\n"
     ]
    }
   ],
   "source": [
    "from toolbox.load_movie_names import load_movie_names\n",
    "movie_names = load_movie_names()\n",
    "##Answer to question 5.2.2\n",
    "filename = \"./data/MovieLensData.txt\"\n",
    "apriorimining.generate_association_rules(filename, 0.3, 0.8, names=movie_names)"
   ]
  },
  {
   "cell_type": "markdown",
   "metadata": {
    "deletable": false,
    "nbgrader": {
     "cell_type": "markdown",
     "checksum": "f9fd3c86918f5b6d4a10220f72f61527",
     "grade": true,
     "grade_id": "cell-55357c028d94dc3d",
     "locked": false,
     "points": 75,
     "schema_version": 3,
     "solution": true,
     "task": false
    }
   },
   "source": [
    "In general the starwars movies that are present in the purchases, were often bought together, so a lot of association rules is contain them (probably also because they have a high support in this dataset). There were some other interesting rules as well, for example \"Toy Story\", \"Mission: Impossible\" and \"Pulp Fiction\" all were strongly associated with buying \"Star Wars\". The association rule with the highest confidence (1.0) is: $$\\textbf{The Empire Strikes Back + Return of the Jedi + Raiders of the Lost Ark} \\rightarrow \\textbf{Star Wars}$$. Most of the association rules make sense, but to buy star wars after having bought pulp fiction doesn't really seem like a normal thing to do, so this is probably due to insufficient data, or it is just a weird pattern that people tend to fall into."
   ]
  },
  {
   "cell_type": "markdown",
   "metadata": {
    "deletable": false,
    "editable": false,
    "nbgrader": {
     "cell_type": "markdown",
     "checksum": "8ea521beaee598f232d67ba858b95d98",
     "grade": false,
     "grade_id": "cell-611129feaa4f4bf9",
     "locked": true,
     "schema_version": 3,
     "solution": false,
     "task": false
    }
   },
   "source": [
    "#### 5.2.3 \n",
    "(1 point) Which movies have been watched by the most users? There are only few rules with more than three items. Why?"
   ]
  },
  {
   "cell_type": "markdown",
   "metadata": {
    "deletable": false,
    "nbgrader": {
     "cell_type": "markdown",
     "checksum": "03add2389649abfaf767f0c099369005",
     "grade": true,
     "grade_id": "cell-79c29f0d8b8abf0d",
     "locked": false,
     "points": 100,
     "schema_version": 3,
     "solution": true,
     "task": false
    }
   },
   "source": [
    "The top three movies watched by most users are:\n",
    "1. Star Wars\n",
    "2. Fargo\n",
    "3. Return of the Jedi\n",
    "\n",
    "This is probably due to there being no sequence of movies containing more than 4 items, Also by chance the number of rules decreases for larger itemsets, since the chance of them all being picked by more than just a few users are very unlikely. "
   ]
  },
  {
   "cell_type": "markdown",
   "metadata": {
    "deletable": false,
    "editable": false,
    "nbgrader": {
     "cell_type": "markdown",
     "checksum": "f86c110e18447277f3604ec236ad9c29",
     "grade": false,
     "grade_id": "cell-899ad151d09eb727",
     "locked": true,
     "schema_version": 3,
     "solution": false,
     "task": false
    }
   },
   "source": [
    "#### 5.2.4\n",
    "(0.5 points) Often we are interested in rules with high confidence. Is it possible for itemsets to have very low support but still have corresponding rule with a very high confidence?"
   ]
  },
  {
   "cell_type": "markdown",
   "metadata": {
    "deletable": false,
    "nbgrader": {
     "cell_type": "markdown",
     "checksum": "6788758edbfef6f4fb50e4cf08c93246",
     "grade": true,
     "grade_id": "cell-6c11c899cc3b097e",
     "locked": false,
     "points": 50,
     "schema_version": 3,
     "solution": true,
     "task": false
    }
   },
   "source": [
    "Yes, because the confidence of an association rule can be retrieved by dividing the itemset containing all items in the rule over just the items that were bought (association items excluded). Support however is measured as the presence of an itemset in the complete dataset (in percentage as well). So because the confidence of an association rule is relative to the transaction itemset, we can easily get a confidence of 1 while having a low support (the explanation can b"
   ]
  },
  {
   "cell_type": "markdown",
   "metadata": {
    "deletable": false,
    "editable": false,
    "nbgrader": {
     "cell_type": "markdown",
     "checksum": "759ccb68b13a1b6a215d93955e7495d7",
     "grade": false,
     "grade_id": "cell-f39981d68f484531",
     "locked": true,
     "schema_version": 3,
     "solution": false,
     "task": false
    }
   },
   "source": [
    "## 5.3 Calculating support, confidence and interest\n",
    "\n",
    "Calculate these measures and write down how you computed things, not just the answers. You can use Latex syntax for writing your answers.\n",
    "\n",
    "\n",
    "#### 5.3.1\n",
    " Suppose we have market basket data consisting of 100 transactions and 20 items. The support for item $ \\text{a} = 45 \\%$, the support for item $ \\text{b} = 80 \\%$ and the support for itemset $ \\text{ {a,b }} = 30 \\%$. Let the support and confidence thresholds be 20$ \\%$ and 60$ \\%$, respectively.\n",
    "  \n",
    "1. (0.5 points) Compute the confidence of the association rule $ \\text{ {a } } \\rightarrow   \\text{{b }} $. Is the rule interesting according to the confidence measure?\n",
    "\n",
    "2. (0.5 points) Compute the interest measure (or lift, see slide 46 of chapter 6) for the association rule $ \\text{ {a } } \\rightarrow   \\text{{b }} $. Describe the nature of the relationship between item $ \\text{a}$ and item $ \\text{b}$  in terms of the interest measure.\n",
    "\n",
    "3. (1 points) What conclusion can you draw from the results of parts (1) and (2)?"
   ]
  },
  {
   "cell_type": "markdown",
   "metadata": {
    "deletable": false,
    "nbgrader": {
     "cell_type": "markdown",
     "checksum": "704d54b02645f5b84bc0acd9b5be7cae",
     "grade": true,
     "grade_id": "cell-8948754509212bc2",
     "locked": false,
     "points": 200,
     "schema_version": 3,
     "solution": true,
     "task": false
    }
   },
   "source": [
    "YOUR ANSWER HERE"
   ]
  },
  {
   "cell_type": "markdown",
   "metadata": {
    "deletable": false,
    "editable": false,
    "nbgrader": {
     "cell_type": "markdown",
     "checksum": "ce7e64c276bd77963a95999141af920e",
     "grade": false,
     "grade_id": "cell-a5d346a073af8c65",
     "locked": true,
     "schema_version": 3,
     "solution": false,
     "task": false
    }
   },
   "source": [
    "#### 5.3.2\n",
    "\n",
    "1. (1 points) Let $c_1$, $c_2$, and $c_3$ be the confidence values of the rules $ \\text{ {a } } \\rightarrow   \\text{{b }} $, $ \\text{ {a } } \\rightarrow   \\text{{b,c }} $, and $ \\text{ {a,c } } \\rightarrow   \\text{{b }} $ respectively. If we assume that $c_1$, $c_2$, and $c_3$ have different values, what are the possible inequality relationships (e.g. $c_1 \\leq c_2 \\leq c_3$) among $c_1$, $c_2$, and $c_3$? Which rule has the lowest confidence?\n",
    "2. (0.5 points) Suppose the confidence of the rules  $ \\text{ {a } } \\rightarrow   \\text{{b }} $ and $ \\text{ {b } } \\rightarrow   \\text{{c }} $ are larger than the confidence threshold. Is it possible that $ \\text{ {a } } \\rightarrow   \\text{{c }} $ has a confidence below that threshold? If no, explain why. If yes, give an example. "
   ]
  },
  {
   "cell_type": "markdown",
   "metadata": {
    "deletable": false,
    "nbgrader": {
     "cell_type": "markdown",
     "checksum": "8c3af8c12511c96bb5caee7a13e48ca8",
     "grade": true,
     "grade_id": "cell-20ac31a07805335e",
     "locked": false,
     "points": 150,
     "schema_version": 3,
     "solution": true,
     "task": false
    }
   },
   "source": [
    "YOUR ANSWER HERE"
   ]
  },
  {
   "cell_type": "markdown",
   "metadata": {
    "deletable": false,
    "editable": false,
    "nbgrader": {
     "cell_type": "markdown",
     "checksum": "496b9654abb4d993b64b66f73612e943",
     "grade": false,
     "grade_id": "cell-bf27fd8315cf8bce",
     "locked": true,
     "schema_version": 3,
     "solution": false,
     "task": false
    }
   },
   "source": [
    "\n",
    "#### 5.3.3\n",
    "\n",
    "(3 points) Consider the relationships between customers who buy high-definition televisions and exercise machines as shown in Table 2 and 3.\n",
    "\n",
    "1. Compute the odd ratios for both tables.\n",
    "2. Compute the $\\phi$-coefficient for both tables.\n",
    "3. Compute the interest (or lift, in the book) factor for both tables.\n",
    "\n",
    "For Table 3 you should compute measures given above separately for College\n",
    "Students and for Adults. **For each of the measures, describe how the direction\n",
    "of association changes when data is pooled together** (Table 2) instead of being\n",
    "separated into two groups (Table 3)\n",
    "\n",
    "##### Table 2: Two way contingency table between the sale of high-definition television and exercise machine\n",
    "| |   Buy Exercise machine |     |     |\n",
    "| :------------- | -------------:| :-----------:| :----------:| \n",
    "| **Buy HDTV     ** | yes | no | total |\n",
    "| yes  | 105| 87 | 192 | \n",
    "| no | 40| 62 | 102 |   \n",
    "| total | 145 | 149 | 294 | \n",
    " \n",
    "\n",
    "##### Table 3: Example of three-way contingency table\n",
    "| | |   Buy Exercise machine |     |     |\n",
    "|--- | :------------- | -------------:| :-----------:| :----------:| \n",
    "|**Customer group** | **Buy HDTV     ** | yes | no | total |\n",
    "|College students | yes  | 2| 9 | 11 | \n",
    "| | no | 5| 20 | 25 |\n",
    "| Working adults | yes  | 103| 78 | 181 | \n",
    "| | no | 35| 42 | 77 |  \n",
    "\n"
   ]
  },
  {
   "cell_type": "markdown",
   "metadata": {
    "deletable": false,
    "nbgrader": {
     "cell_type": "markdown",
     "checksum": "35bfc84d31448553fc31fcc88aefe489",
     "grade": true,
     "grade_id": "cell-4b5aebb5eab150c6",
     "locked": false,
     "points": 300,
     "schema_version": 3,
     "solution": true,
     "task": false
    }
   },
   "source": [
    "YOUR ANSWER HERE"
   ]
  }
 ],
 "metadata": {
  "anaconda-cloud": {},
  "kernelspec": {
   "display_name": "Python 3 (ipykernel)",
   "language": "python",
   "name": "python3"
  },
  "language_info": {
   "codemirror_mode": {
    "name": "ipython",
    "version": 3
   },
   "file_extension": ".py",
   "mimetype": "text/x-python",
   "name": "python",
   "nbconvert_exporter": "python",
   "pygments_lexer": "ipython3",
   "version": "3.9.7"
  }
 },
 "nbformat": 4,
 "nbformat_minor": 1
}
